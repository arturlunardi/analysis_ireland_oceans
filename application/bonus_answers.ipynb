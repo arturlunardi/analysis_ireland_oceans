{
 "cells": [
  {
   "cell_type": "code",
   "execution_count": 1,
   "metadata": {},
   "outputs": [],
   "source": [
    "import os\n",
    "import pandas as pd\n",
    "import matplotlib.pyplot as plt\n",
    "import seaborn as sns\n",
    "import plotly.express as px\n",
    "import numpy as np\n",
    "import folium\n",
    "import json\n",
    "import scipy\n",
    "\n",
    "# sk\n",
    "from sklearn.model_selection import train_test_split\n",
    "from sklearn.model_selection import cross_val_score, KFold\n",
    "from sklearn.metrics import mean_squared_error, mean_absolute_error, r2_score, mean_absolute_percentage_error"
   ]
  },
  {
   "cell_type": "code",
   "execution_count": 2,
   "metadata": {},
   "outputs": [],
   "source": [
    "# Directory of the raw data files\n",
    "_data_root = r'../data'\n",
    "\n",
    "# Name of each data directory\n",
    "_tides_root = r'tides'\n",
    "_waves_root = r\"waves\""
   ]
  },
  {
   "cell_type": "markdown",
   "metadata": {},
   "source": [
    "### Loading the Data"
   ]
  },
  {
   "cell_type": "code",
   "execution_count": 3,
   "metadata": {},
   "outputs": [],
   "source": [
    "# Ingesting data\n",
    "# Creating original dataframe to concat - tides\n",
    "df_tides = pd.DataFrame()\n",
    "for file in os.listdir(os.path.join(_data_root, _tides_root)):\n",
    "    df_tides_to_concat = pd.read_csv(os.path.join(_data_root, _tides_root, file), skiprows=[1])\n",
    "    df_tides = pd.concat([df_tides, df_tides_to_concat])\n",
    "\n",
    "# Creating original dataframe to concat - waves\n",
    "df_waves = pd.DataFrame()\n",
    "for file in os.listdir(os.path.join(_data_root, _waves_root)):\n",
    "    df_waves_to_concat = pd.read_csv(os.path.join(_data_root, _waves_root, file), skiprows=[1])\n",
    "    df_waves = pd.concat([df_waves, df_waves_to_concat])"
   ]
  },
  {
   "cell_type": "code",
   "execution_count": 4,
   "metadata": {},
   "outputs": [
    {
     "name": "stdout",
     "output_type": "stream",
     "text": [
      "All files have been loaded correctly.\n"
     ]
    }
   ],
   "source": [
    "# checking if all files have been correctly loaded\n",
    "\n",
    "number_of_files_tides = len(os.listdir(os.path.join(_data_root, _tides_root)))\n",
    "number_of_unique_stations_tides = df_tides['station_id'].nunique()\n",
    "\n",
    "number_of_files_waves = len(os.listdir(os.path.join(_data_root, _waves_root)))\n",
    "number_of_unique_stations_waves = df_waves['station_id'].nunique()\n",
    "\n",
    "if number_of_files_tides != number_of_unique_stations_tides or number_of_files_waves != number_of_unique_stations_waves:\n",
    "    print('Number of files different than unique stations.')\n",
    "else:\n",
    "    print('All files have been loaded correctly.')"
   ]
  },
  {
   "cell_type": "code",
   "execution_count": 5,
   "metadata": {},
   "outputs": [],
   "source": [
    "# Transforming time columns\n",
    "\n",
    "df_waves['time'] = pd.to_datetime(df_waves['time'])\n",
    "df_tides['time'] = pd.to_datetime(df_tides['time'])\n",
    "\n",
    "df_waves['time'] = df_waves['time'].dt.tz_localize(None)\n",
    "df_tides['time'] = df_tides['time'].dt.tz_localize(None)"
   ]
  },
  {
   "cell_type": "code",
   "execution_count": 6,
   "metadata": {},
   "outputs": [
    {
     "data": {
      "text/plain": [
       "(250992, 12)"
      ]
     },
     "execution_count": 6,
     "metadata": {},
     "output_type": "execute_result"
    }
   ],
   "source": [
    "df_waves.shape"
   ]
  },
  {
   "cell_type": "markdown",
   "metadata": {},
   "source": [
    "### 1. Build a Time Series model that can predict the sea temperature throughout the year"
   ]
  },
  {
   "cell_type": "markdown",
   "metadata": {},
   "source": [
    "### EDA"
   ]
  },
  {
   "cell_type": "code",
   "execution_count": 7,
   "metadata": {},
   "outputs": [
    {
     "data": {
      "text/html": [
       "<div>\n",
       "<style scoped>\n",
       "    .dataframe tbody tr th:only-of-type {\n",
       "        vertical-align: middle;\n",
       "    }\n",
       "\n",
       "    .dataframe tbody tr th {\n",
       "        vertical-align: top;\n",
       "    }\n",
       "\n",
       "    .dataframe thead th {\n",
       "        text-align: right;\n",
       "    }\n",
       "</style>\n",
       "<table border=\"1\" class=\"dataframe\">\n",
       "  <thead>\n",
       "    <tr style=\"text-align: right;\">\n",
       "      <th></th>\n",
       "      <th>longitude</th>\n",
       "      <th>latitude</th>\n",
       "      <th>time</th>\n",
       "      <th>station_id</th>\n",
       "      <th>PeakPeriod</th>\n",
       "      <th>PeakDirection</th>\n",
       "      <th>UpcrossPeriod</th>\n",
       "      <th>SignificantWaveHeight</th>\n",
       "      <th>Hmax</th>\n",
       "      <th>SeaTemperature</th>\n",
       "      <th>MeanCurSpeed</th>\n",
       "      <th>MeanCurDirTo</th>\n",
       "    </tr>\n",
       "  </thead>\n",
       "  <tbody>\n",
       "    <tr>\n",
       "      <th>0</th>\n",
       "      <td>-9.262278</td>\n",
       "      <td>53.228333</td>\n",
       "      <td>2021-09-16 00:05:00</td>\n",
       "      <td>SmartBay Wave Buoy</td>\n",
       "      <td>NaN</td>\n",
       "      <td>NaN</td>\n",
       "      <td>NaN</td>\n",
       "      <td>NaN</td>\n",
       "      <td>NaN</td>\n",
       "      <td>16.72</td>\n",
       "      <td>NaN</td>\n",
       "      <td>NaN</td>\n",
       "    </tr>\n",
       "    <tr>\n",
       "      <th>1</th>\n",
       "      <td>-9.262278</td>\n",
       "      <td>53.228333</td>\n",
       "      <td>2021-09-16 00:10:00</td>\n",
       "      <td>SmartBay Wave Buoy</td>\n",
       "      <td>NaN</td>\n",
       "      <td>NaN</td>\n",
       "      <td>NaN</td>\n",
       "      <td>NaN</td>\n",
       "      <td>NaN</td>\n",
       "      <td>16.72</td>\n",
       "      <td>0.108</td>\n",
       "      <td>23.912088</td>\n",
       "    </tr>\n",
       "    <tr>\n",
       "      <th>2</th>\n",
       "      <td>-9.262278</td>\n",
       "      <td>53.228333</td>\n",
       "      <td>2021-09-16 00:15:00</td>\n",
       "      <td>SmartBay Wave Buoy</td>\n",
       "      <td>NaN</td>\n",
       "      <td>NaN</td>\n",
       "      <td>NaN</td>\n",
       "      <td>NaN</td>\n",
       "      <td>NaN</td>\n",
       "      <td>16.72</td>\n",
       "      <td>NaN</td>\n",
       "      <td>NaN</td>\n",
       "    </tr>\n",
       "    <tr>\n",
       "      <th>3</th>\n",
       "      <td>-9.262278</td>\n",
       "      <td>53.228333</td>\n",
       "      <td>2021-09-16 00:20:00</td>\n",
       "      <td>SmartBay Wave Buoy</td>\n",
       "      <td>NaN</td>\n",
       "      <td>NaN</td>\n",
       "      <td>NaN</td>\n",
       "      <td>NaN</td>\n",
       "      <td>NaN</td>\n",
       "      <td>16.72</td>\n",
       "      <td>0.138</td>\n",
       "      <td>29.010988</td>\n",
       "    </tr>\n",
       "    <tr>\n",
       "      <th>4</th>\n",
       "      <td>-9.262278</td>\n",
       "      <td>53.228333</td>\n",
       "      <td>2021-09-16 00:25:00</td>\n",
       "      <td>SmartBay Wave Buoy</td>\n",
       "      <td>NaN</td>\n",
       "      <td>NaN</td>\n",
       "      <td>NaN</td>\n",
       "      <td>NaN</td>\n",
       "      <td>NaN</td>\n",
       "      <td>16.72</td>\n",
       "      <td>NaN</td>\n",
       "      <td>NaN</td>\n",
       "    </tr>\n",
       "  </tbody>\n",
       "</table>\n",
       "</div>"
      ],
      "text/plain": [
       "   longitude   latitude                time          station_id  PeakPeriod  \\\n",
       "0  -9.262278  53.228333 2021-09-16 00:05:00  SmartBay Wave Buoy         NaN   \n",
       "1  -9.262278  53.228333 2021-09-16 00:10:00  SmartBay Wave Buoy         NaN   \n",
       "2  -9.262278  53.228333 2021-09-16 00:15:00  SmartBay Wave Buoy         NaN   \n",
       "3  -9.262278  53.228333 2021-09-16 00:20:00  SmartBay Wave Buoy         NaN   \n",
       "4  -9.262278  53.228333 2021-09-16 00:25:00  SmartBay Wave Buoy         NaN   \n",
       "\n",
       "   PeakDirection  UpcrossPeriod  SignificantWaveHeight  Hmax  SeaTemperature  \\\n",
       "0            NaN            NaN                    NaN   NaN           16.72   \n",
       "1            NaN            NaN                    NaN   NaN           16.72   \n",
       "2            NaN            NaN                    NaN   NaN           16.72   \n",
       "3            NaN            NaN                    NaN   NaN           16.72   \n",
       "4            NaN            NaN                    NaN   NaN           16.72   \n",
       "\n",
       "   MeanCurSpeed  MeanCurDirTo  \n",
       "0           NaN           NaN  \n",
       "1         0.108     23.912088  \n",
       "2           NaN           NaN  \n",
       "3         0.138     29.010988  \n",
       "4           NaN           NaN  "
      ]
     },
     "execution_count": 7,
     "metadata": {},
     "output_type": "execute_result"
    }
   ],
   "source": [
    "df_waves.head()"
   ]
  },
  {
   "cell_type": "code",
   "execution_count": 8,
   "metadata": {},
   "outputs": [
    {
     "data": {
      "text/html": [
       "<div>\n",
       "<style scoped>\n",
       "    .dataframe tbody tr th:only-of-type {\n",
       "        vertical-align: middle;\n",
       "    }\n",
       "\n",
       "    .dataframe tbody tr th {\n",
       "        vertical-align: top;\n",
       "    }\n",
       "\n",
       "    .dataframe thead th {\n",
       "        text-align: right;\n",
       "    }\n",
       "</style>\n",
       "<table border=\"1\" class=\"dataframe\">\n",
       "  <thead>\n",
       "    <tr style=\"text-align: right;\">\n",
       "      <th></th>\n",
       "      <th>longitude</th>\n",
       "      <th>latitude</th>\n",
       "      <th>time</th>\n",
       "      <th>station_id</th>\n",
       "      <th>PeakPeriod</th>\n",
       "      <th>PeakDirection</th>\n",
       "      <th>UpcrossPeriod</th>\n",
       "      <th>SignificantWaveHeight</th>\n",
       "      <th>Hmax</th>\n",
       "      <th>SeaTemperature</th>\n",
       "      <th>MeanCurSpeed</th>\n",
       "      <th>MeanCurDirTo</th>\n",
       "    </tr>\n",
       "  </thead>\n",
       "  <tbody>\n",
       "    <tr>\n",
       "      <th>16564</th>\n",
       "      <td>-10.15099</td>\n",
       "      <td>54.2251</td>\n",
       "      <td>2022-09-05 21:32:00</td>\n",
       "      <td>AMETS Berth B Wave Buoy</td>\n",
       "      <td>9.09</td>\n",
       "      <td>233.4</td>\n",
       "      <td>4.819</td>\n",
       "      <td>112.0</td>\n",
       "      <td>NaN</td>\n",
       "      <td>15.2</td>\n",
       "      <td>NaN</td>\n",
       "      <td>NaN</td>\n",
       "    </tr>\n",
       "    <tr>\n",
       "      <th>16565</th>\n",
       "      <td>-10.15099</td>\n",
       "      <td>54.2251</td>\n",
       "      <td>2022-09-05 22:02:00</td>\n",
       "      <td>AMETS Berth B Wave Buoy</td>\n",
       "      <td>10.00</td>\n",
       "      <td>232.0</td>\n",
       "      <td>4.762</td>\n",
       "      <td>123.0</td>\n",
       "      <td>NaN</td>\n",
       "      <td>15.2</td>\n",
       "      <td>NaN</td>\n",
       "      <td>NaN</td>\n",
       "    </tr>\n",
       "    <tr>\n",
       "      <th>16566</th>\n",
       "      <td>-10.15099</td>\n",
       "      <td>54.2251</td>\n",
       "      <td>2022-09-05 22:32:00</td>\n",
       "      <td>AMETS Berth B Wave Buoy</td>\n",
       "      <td>10.53</td>\n",
       "      <td>229.2</td>\n",
       "      <td>5.000</td>\n",
       "      <td>123.0</td>\n",
       "      <td>NaN</td>\n",
       "      <td>15.2</td>\n",
       "      <td>NaN</td>\n",
       "      <td>NaN</td>\n",
       "    </tr>\n",
       "    <tr>\n",
       "      <th>16567</th>\n",
       "      <td>-10.15099</td>\n",
       "      <td>54.2251</td>\n",
       "      <td>2022-09-05 23:02:00</td>\n",
       "      <td>AMETS Berth B Wave Buoy</td>\n",
       "      <td>10.53</td>\n",
       "      <td>229.2</td>\n",
       "      <td>5.714</td>\n",
       "      <td>140.0</td>\n",
       "      <td>NaN</td>\n",
       "      <td>15.2</td>\n",
       "      <td>NaN</td>\n",
       "      <td>NaN</td>\n",
       "    </tr>\n",
       "    <tr>\n",
       "      <th>16568</th>\n",
       "      <td>-10.15099</td>\n",
       "      <td>54.2251</td>\n",
       "      <td>2022-09-05 23:32:00</td>\n",
       "      <td>AMETS Berth B Wave Buoy</td>\n",
       "      <td>10.53</td>\n",
       "      <td>229.2</td>\n",
       "      <td>5.333</td>\n",
       "      <td>140.0</td>\n",
       "      <td>NaN</td>\n",
       "      <td>15.2</td>\n",
       "      <td>NaN</td>\n",
       "      <td>NaN</td>\n",
       "    </tr>\n",
       "  </tbody>\n",
       "</table>\n",
       "</div>"
      ],
      "text/plain": [
       "       longitude  latitude                time               station_id  \\\n",
       "16564  -10.15099   54.2251 2022-09-05 21:32:00  AMETS Berth B Wave Buoy   \n",
       "16565  -10.15099   54.2251 2022-09-05 22:02:00  AMETS Berth B Wave Buoy   \n",
       "16566  -10.15099   54.2251 2022-09-05 22:32:00  AMETS Berth B Wave Buoy   \n",
       "16567  -10.15099   54.2251 2022-09-05 23:02:00  AMETS Berth B Wave Buoy   \n",
       "16568  -10.15099   54.2251 2022-09-05 23:32:00  AMETS Berth B Wave Buoy   \n",
       "\n",
       "       PeakPeriod  PeakDirection  UpcrossPeriod  SignificantWaveHeight  Hmax  \\\n",
       "16564        9.09          233.4          4.819                  112.0   NaN   \n",
       "16565       10.00          232.0          4.762                  123.0   NaN   \n",
       "16566       10.53          229.2          5.000                  123.0   NaN   \n",
       "16567       10.53          229.2          5.714                  140.0   NaN   \n",
       "16568       10.53          229.2          5.333                  140.0   NaN   \n",
       "\n",
       "       SeaTemperature  MeanCurSpeed  MeanCurDirTo  \n",
       "16564            15.2           NaN           NaN  \n",
       "16565            15.2           NaN           NaN  \n",
       "16566            15.2           NaN           NaN  \n",
       "16567            15.2           NaN           NaN  \n",
       "16568            15.2           NaN           NaN  "
      ]
     },
     "execution_count": 8,
     "metadata": {},
     "output_type": "execute_result"
    }
   ],
   "source": [
    "df_waves.tail()"
   ]
  },
  {
   "cell_type": "markdown",
   "metadata": {},
   "source": [
    "We can see that the time interval between measures it is not regular, on the beginning it is collected every 5 minutes, and later every 30 minutes."
   ]
  },
  {
   "cell_type": "code",
   "execution_count": 9,
   "metadata": {},
   "outputs": [
    {
     "data": {
      "text/plain": [
       "longitude                     0\n",
       "latitude                      0\n",
       "time                          0\n",
       "station_id                    0\n",
       "PeakPeriod               173310\n",
       "PeakDirection            173310\n",
       "UpcrossPeriod            173310\n",
       "SignificantWaveHeight    173310\n",
       "Hmax                     216370\n",
       "SeaTemperature                0\n",
       "MeanCurSpeed             198428\n",
       "MeanCurDirTo             198431\n",
       "dtype: int64"
      ]
     },
     "execution_count": 9,
     "metadata": {},
     "output_type": "execute_result"
    }
   ],
   "source": [
    "# check for nulls\n",
    "df_waves.isnull().sum()"
   ]
  },
  {
   "cell_type": "markdown",
   "metadata": {},
   "source": [
    "We have a lot of missing data. Judging the name of the column, it was values collected to state aggregations per period."
   ]
  },
  {
   "cell_type": "code",
   "execution_count": 10,
   "metadata": {},
   "outputs": [
    {
     "data": {
      "text/html": [
       "<div>\n",
       "<style scoped>\n",
       "    .dataframe tbody tr th:only-of-type {\n",
       "        vertical-align: middle;\n",
       "    }\n",
       "\n",
       "    .dataframe tbody tr th {\n",
       "        vertical-align: top;\n",
       "    }\n",
       "\n",
       "    .dataframe thead th {\n",
       "        text-align: right;\n",
       "    }\n",
       "</style>\n",
       "<table border=\"1\" class=\"dataframe\">\n",
       "  <thead>\n",
       "    <tr style=\"text-align: right;\">\n",
       "      <th></th>\n",
       "      <th>longitude</th>\n",
       "      <th>latitude</th>\n",
       "      <th>PeakPeriod</th>\n",
       "      <th>PeakDirection</th>\n",
       "      <th>UpcrossPeriod</th>\n",
       "      <th>SignificantWaveHeight</th>\n",
       "      <th>Hmax</th>\n",
       "      <th>SeaTemperature</th>\n",
       "      <th>MeanCurSpeed</th>\n",
       "      <th>MeanCurDirTo</th>\n",
       "    </tr>\n",
       "  </thead>\n",
       "  <tbody>\n",
       "    <tr>\n",
       "      <th>count</th>\n",
       "      <td>250992.000000</td>\n",
       "      <td>250992.000000</td>\n",
       "      <td>77682.000000</td>\n",
       "      <td>77682.000000</td>\n",
       "      <td>77682.000000</td>\n",
       "      <td>77682.000000</td>\n",
       "      <td>34622.000000</td>\n",
       "      <td>250992.000000</td>\n",
       "      <td>52564.000000</td>\n",
       "      <td>52561.000000</td>\n",
       "    </tr>\n",
       "    <tr>\n",
       "      <th>mean</th>\n",
       "      <td>-9.716230</td>\n",
       "      <td>52.629164</td>\n",
       "      <td>10.258620</td>\n",
       "      <td>267.979840</td>\n",
       "      <td>5.741876</td>\n",
       "      <td>184.508664</td>\n",
       "      <td>143.025995</td>\n",
       "      <td>12.297332</td>\n",
       "      <td>0.101646</td>\n",
       "      <td>173.233028</td>\n",
       "    </tr>\n",
       "    <tr>\n",
       "      <th>std</th>\n",
       "      <td>0.345750</td>\n",
       "      <td>0.941411</td>\n",
       "      <td>3.259992</td>\n",
       "      <td>54.317685</td>\n",
       "      <td>1.898708</td>\n",
       "      <td>161.773999</td>\n",
       "      <td>111.588810</td>\n",
       "      <td>3.170566</td>\n",
       "      <td>0.076782</td>\n",
       "      <td>103.141230</td>\n",
       "    </tr>\n",
       "    <tr>\n",
       "      <th>min</th>\n",
       "      <td>-10.297370</td>\n",
       "      <td>51.647000</td>\n",
       "      <td>1.350000</td>\n",
       "      <td>0.000000</td>\n",
       "      <td>1.490000</td>\n",
       "      <td>0.000000</td>\n",
       "      <td>6.000000</td>\n",
       "      <td>4.470000</td>\n",
       "      <td>0.000000</td>\n",
       "      <td>0.000000</td>\n",
       "    </tr>\n",
       "    <tr>\n",
       "      <th>25%</th>\n",
       "      <td>-10.094833</td>\n",
       "      <td>51.647000</td>\n",
       "      <td>8.330000</td>\n",
       "      <td>246.153840</td>\n",
       "      <td>4.280000</td>\n",
       "      <td>68.000000</td>\n",
       "      <td>62.000000</td>\n",
       "      <td>9.550000</td>\n",
       "      <td>0.046000</td>\n",
       "      <td>77.890110</td>\n",
       "    </tr>\n",
       "    <tr>\n",
       "      <th>50%</th>\n",
       "      <td>-9.681000</td>\n",
       "      <td>52.282333</td>\n",
       "      <td>10.530000</td>\n",
       "      <td>270.000000</td>\n",
       "      <td>5.634000</td>\n",
       "      <td>138.000000</td>\n",
       "      <td>114.000000</td>\n",
       "      <td>11.900000</td>\n",
       "      <td>0.080000</td>\n",
       "      <td>165.362640</td>\n",
       "    </tr>\n",
       "    <tr>\n",
       "      <th>75%</th>\n",
       "      <td>-9.262278</td>\n",
       "      <td>53.228333</td>\n",
       "      <td>12.500000</td>\n",
       "      <td>303.912080</td>\n",
       "      <td>7.080000</td>\n",
       "      <td>249.000000</td>\n",
       "      <td>190.000000</td>\n",
       "      <td>14.730000</td>\n",
       "      <td>0.137000</td>\n",
       "      <td>268.219800</td>\n",
       "    </tr>\n",
       "    <tr>\n",
       "      <th>max</th>\n",
       "      <td>-9.262278</td>\n",
       "      <td>54.275300</td>\n",
       "      <td>25.000000</td>\n",
       "      <td>359.648350</td>\n",
       "      <td>21.970000</td>\n",
       "      <td>1819.000000</td>\n",
       "      <td>1407.000000</td>\n",
       "      <td>22.360000</td>\n",
       "      <td>1.363000</td>\n",
       "      <td>359.912080</td>\n",
       "    </tr>\n",
       "  </tbody>\n",
       "</table>\n",
       "</div>"
      ],
      "text/plain": [
       "           longitude       latitude    PeakPeriod  PeakDirection  \\\n",
       "count  250992.000000  250992.000000  77682.000000   77682.000000   \n",
       "mean       -9.716230      52.629164     10.258620     267.979840   \n",
       "std         0.345750       0.941411      3.259992      54.317685   \n",
       "min       -10.297370      51.647000      1.350000       0.000000   \n",
       "25%       -10.094833      51.647000      8.330000     246.153840   \n",
       "50%        -9.681000      52.282333     10.530000     270.000000   \n",
       "75%        -9.262278      53.228333     12.500000     303.912080   \n",
       "max        -9.262278      54.275300     25.000000     359.648350   \n",
       "\n",
       "       UpcrossPeriod  SignificantWaveHeight          Hmax  SeaTemperature  \\\n",
       "count   77682.000000           77682.000000  34622.000000   250992.000000   \n",
       "mean        5.741876             184.508664    143.025995       12.297332   \n",
       "std         1.898708             161.773999    111.588810        3.170566   \n",
       "min         1.490000               0.000000      6.000000        4.470000   \n",
       "25%         4.280000              68.000000     62.000000        9.550000   \n",
       "50%         5.634000             138.000000    114.000000       11.900000   \n",
       "75%         7.080000             249.000000    190.000000       14.730000   \n",
       "max        21.970000            1819.000000   1407.000000       22.360000   \n",
       "\n",
       "       MeanCurSpeed  MeanCurDirTo  \n",
       "count  52564.000000  52561.000000  \n",
       "mean       0.101646    173.233028  \n",
       "std        0.076782    103.141230  \n",
       "min        0.000000      0.000000  \n",
       "25%        0.046000     77.890110  \n",
       "50%        0.080000    165.362640  \n",
       "75%        0.137000    268.219800  \n",
       "max        1.363000    359.912080  "
      ]
     },
     "execution_count": 10,
     "metadata": {},
     "output_type": "execute_result"
    }
   ],
   "source": [
    "df_waves.describe()"
   ]
  },
  {
   "cell_type": "markdown",
   "metadata": {},
   "source": [
    "At a first look, we can see that maybe there are outliers, let's see it more visually."
   ]
  },
  {
   "cell_type": "code",
   "execution_count": 11,
   "metadata": {},
   "outputs": [
    {
     "data": {
      "image/png": "[encoded data removed]",
      "text/plain": [
       "<Figure size 2160x576 with 8 Axes>"
      ]
     },
     "metadata": {
      "needs_background": "light"
     },
     "output_type": "display_data"
    }
   ],
   "source": [
    "plt.figure(figsize=(30, 8))\n",
    "\n",
    "columns = ['PeakPeriod', 'PeakDirection', 'UpcrossPeriod', 'SignificantWaveHeight', 'Hmax', 'SeaTemperature', 'MeanCurSpeed', 'MeanCurDirTo']\n",
    "\n",
    "i = 1\n",
    "for column in columns:\n",
    "    plt.subplot(2, 4, i)\n",
    "    plt.title(column)\n",
    "    sns.boxplot(x=df_waves[column])    \n",
    "    i+=1\n",
    "\n",
    "plt.tight_layout()\n",
    "plt.show()"
   ]
  },
  {
   "cell_type": "markdown",
   "metadata": {},
   "source": [
    "Now we can see more clearly that there are some outliers, but they look like more a natural event than an error on the measuring. Therefore, we will not perform any changes."
   ]
  },
  {
   "cell_type": "markdown",
   "metadata": {},
   "source": [
    "#### Model"
   ]
  },
  {
   "cell_type": "markdown",
   "metadata": {},
   "source": [
    "I chose to the Prophet library for creating my model and analyzing the data trends."
   ]
  },
  {
   "cell_type": "code",
   "execution_count": 12,
   "metadata": {},
   "outputs": [],
   "source": [
    "from prophet import Prophet\n",
    "from dateutil.relativedelta import relativedelta"
   ]
  },
  {
   "cell_type": "code",
   "execution_count": 13,
   "metadata": {},
   "outputs": [
    {
     "data": {
      "text/html": [
       "<div>\n",
       "<style scoped>\n",
       "    .dataframe tbody tr th:only-of-type {\n",
       "        vertical-align: middle;\n",
       "    }\n",
       "\n",
       "    .dataframe tbody tr th {\n",
       "        vertical-align: top;\n",
       "    }\n",
       "\n",
       "    .dataframe thead th {\n",
       "        text-align: right;\n",
       "    }\n",
       "</style>\n",
       "<table border=\"1\" class=\"dataframe\">\n",
       "  <thead>\n",
       "    <tr style=\"text-align: right;\">\n",
       "      <th></th>\n",
       "      <th>longitude</th>\n",
       "      <th>latitude</th>\n",
       "      <th>time</th>\n",
       "      <th>station_id</th>\n",
       "      <th>PeakPeriod</th>\n",
       "      <th>PeakDirection</th>\n",
       "      <th>UpcrossPeriod</th>\n",
       "      <th>SignificantWaveHeight</th>\n",
       "      <th>Hmax</th>\n",
       "      <th>SeaTemperature</th>\n",
       "      <th>MeanCurSpeed</th>\n",
       "      <th>MeanCurDirTo</th>\n",
       "    </tr>\n",
       "  </thead>\n",
       "  <tbody>\n",
       "    <tr>\n",
       "      <th>0</th>\n",
       "      <td>-9.262278</td>\n",
       "      <td>53.228333</td>\n",
       "      <td>2021-09-16 00:05:00</td>\n",
       "      <td>SmartBay Wave Buoy</td>\n",
       "      <td>NaN</td>\n",
       "      <td>NaN</td>\n",
       "      <td>NaN</td>\n",
       "      <td>NaN</td>\n",
       "      <td>NaN</td>\n",
       "      <td>16.72</td>\n",
       "      <td>NaN</td>\n",
       "      <td>NaN</td>\n",
       "    </tr>\n",
       "    <tr>\n",
       "      <th>1</th>\n",
       "      <td>-9.262278</td>\n",
       "      <td>53.228333</td>\n",
       "      <td>2021-09-16 00:10:00</td>\n",
       "      <td>SmartBay Wave Buoy</td>\n",
       "      <td>NaN</td>\n",
       "      <td>NaN</td>\n",
       "      <td>NaN</td>\n",
       "      <td>NaN</td>\n",
       "      <td>NaN</td>\n",
       "      <td>16.72</td>\n",
       "      <td>0.108</td>\n",
       "      <td>23.912088</td>\n",
       "    </tr>\n",
       "    <tr>\n",
       "      <th>2</th>\n",
       "      <td>-9.262278</td>\n",
       "      <td>53.228333</td>\n",
       "      <td>2021-09-16 00:15:00</td>\n",
       "      <td>SmartBay Wave Buoy</td>\n",
       "      <td>NaN</td>\n",
       "      <td>NaN</td>\n",
       "      <td>NaN</td>\n",
       "      <td>NaN</td>\n",
       "      <td>NaN</td>\n",
       "      <td>16.72</td>\n",
       "      <td>NaN</td>\n",
       "      <td>NaN</td>\n",
       "    </tr>\n",
       "    <tr>\n",
       "      <th>3</th>\n",
       "      <td>-9.262278</td>\n",
       "      <td>53.228333</td>\n",
       "      <td>2021-09-16 00:20:00</td>\n",
       "      <td>SmartBay Wave Buoy</td>\n",
       "      <td>NaN</td>\n",
       "      <td>NaN</td>\n",
       "      <td>NaN</td>\n",
       "      <td>NaN</td>\n",
       "      <td>NaN</td>\n",
       "      <td>16.72</td>\n",
       "      <td>0.138</td>\n",
       "      <td>29.010988</td>\n",
       "    </tr>\n",
       "    <tr>\n",
       "      <th>4</th>\n",
       "      <td>-9.262278</td>\n",
       "      <td>53.228333</td>\n",
       "      <td>2021-09-16 00:25:00</td>\n",
       "      <td>SmartBay Wave Buoy</td>\n",
       "      <td>NaN</td>\n",
       "      <td>NaN</td>\n",
       "      <td>NaN</td>\n",
       "      <td>NaN</td>\n",
       "      <td>NaN</td>\n",
       "      <td>16.72</td>\n",
       "      <td>NaN</td>\n",
       "      <td>NaN</td>\n",
       "    </tr>\n",
       "    <tr>\n",
       "      <th>...</th>\n",
       "      <td>...</td>\n",
       "      <td>...</td>\n",
       "      <td>...</td>\n",
       "      <td>...</td>\n",
       "      <td>...</td>\n",
       "      <td>...</td>\n",
       "      <td>...</td>\n",
       "      <td>...</td>\n",
       "      <td>...</td>\n",
       "      <td>...</td>\n",
       "      <td>...</td>\n",
       "      <td>...</td>\n",
       "    </tr>\n",
       "    <tr>\n",
       "      <th>16564</th>\n",
       "      <td>-10.150990</td>\n",
       "      <td>54.225100</td>\n",
       "      <td>2022-09-05 21:32:00</td>\n",
       "      <td>AMETS Berth B Wave Buoy</td>\n",
       "      <td>9.09</td>\n",
       "      <td>233.4</td>\n",
       "      <td>4.819</td>\n",
       "      <td>112.0</td>\n",
       "      <td>NaN</td>\n",
       "      <td>15.20</td>\n",
       "      <td>NaN</td>\n",
       "      <td>NaN</td>\n",
       "    </tr>\n",
       "    <tr>\n",
       "      <th>16565</th>\n",
       "      <td>-10.150990</td>\n",
       "      <td>54.225100</td>\n",
       "      <td>2022-09-05 22:02:00</td>\n",
       "      <td>AMETS Berth B Wave Buoy</td>\n",
       "      <td>10.00</td>\n",
       "      <td>232.0</td>\n",
       "      <td>4.762</td>\n",
       "      <td>123.0</td>\n",
       "      <td>NaN</td>\n",
       "      <td>15.20</td>\n",
       "      <td>NaN</td>\n",
       "      <td>NaN</td>\n",
       "    </tr>\n",
       "    <tr>\n",
       "      <th>16566</th>\n",
       "      <td>-10.150990</td>\n",
       "      <td>54.225100</td>\n",
       "      <td>2022-09-05 22:32:00</td>\n",
       "      <td>AMETS Berth B Wave Buoy</td>\n",
       "      <td>10.53</td>\n",
       "      <td>229.2</td>\n",
       "      <td>5.000</td>\n",
       "      <td>123.0</td>\n",
       "      <td>NaN</td>\n",
       "      <td>15.20</td>\n",
       "      <td>NaN</td>\n",
       "      <td>NaN</td>\n",
       "    </tr>\n",
       "    <tr>\n",
       "      <th>16567</th>\n",
       "      <td>-10.150990</td>\n",
       "      <td>54.225100</td>\n",
       "      <td>2022-09-05 23:02:00</td>\n",
       "      <td>AMETS Berth B Wave Buoy</td>\n",
       "      <td>10.53</td>\n",
       "      <td>229.2</td>\n",
       "      <td>5.714</td>\n",
       "      <td>140.0</td>\n",
       "      <td>NaN</td>\n",
       "      <td>15.20</td>\n",
       "      <td>NaN</td>\n",
       "      <td>NaN</td>\n",
       "    </tr>\n",
       "    <tr>\n",
       "      <th>16568</th>\n",
       "      <td>-10.150990</td>\n",
       "      <td>54.225100</td>\n",
       "      <td>2022-09-05 23:32:00</td>\n",
       "      <td>AMETS Berth B Wave Buoy</td>\n",
       "      <td>10.53</td>\n",
       "      <td>229.2</td>\n",
       "      <td>5.333</td>\n",
       "      <td>140.0</td>\n",
       "      <td>NaN</td>\n",
       "      <td>15.20</td>\n",
       "      <td>NaN</td>\n",
       "      <td>NaN</td>\n",
       "    </tr>\n",
       "  </tbody>\n",
       "</table>\n",
       "<p>250992 rows × 12 columns</p>\n",
       "</div>"
      ],
      "text/plain": [
       "       longitude   latitude                time               station_id  \\\n",
       "0      -9.262278  53.228333 2021-09-16 00:05:00       SmartBay Wave Buoy   \n",
       "1      -9.262278  53.228333 2021-09-16 00:10:00       SmartBay Wave Buoy   \n",
       "2      -9.262278  53.228333 2021-09-16 00:15:00       SmartBay Wave Buoy   \n",
       "3      -9.262278  53.228333 2021-09-16 00:20:00       SmartBay Wave Buoy   \n",
       "4      -9.262278  53.228333 2021-09-16 00:25:00       SmartBay Wave Buoy   \n",
       "...          ...        ...                 ...                      ...   \n",
       "16564 -10.150990  54.225100 2022-09-05 21:32:00  AMETS Berth B Wave Buoy   \n",
       "16565 -10.150990  54.225100 2022-09-05 22:02:00  AMETS Berth B Wave Buoy   \n",
       "16566 -10.150990  54.225100 2022-09-05 22:32:00  AMETS Berth B Wave Buoy   \n",
       "16567 -10.150990  54.225100 2022-09-05 23:02:00  AMETS Berth B Wave Buoy   \n",
       "16568 -10.150990  54.225100 2022-09-05 23:32:00  AMETS Berth B Wave Buoy   \n",
       "\n",
       "       PeakPeriod  PeakDirection  UpcrossPeriod  SignificantWaveHeight  Hmax  \\\n",
       "0             NaN            NaN            NaN                    NaN   NaN   \n",
       "1             NaN            NaN            NaN                    NaN   NaN   \n",
       "2             NaN            NaN            NaN                    NaN   NaN   \n",
       "3             NaN            NaN            NaN                    NaN   NaN   \n",
       "4             NaN            NaN            NaN                    NaN   NaN   \n",
       "...           ...            ...            ...                    ...   ...   \n",
       "16564        9.09          233.4          4.819                  112.0   NaN   \n",
       "16565       10.00          232.0          4.762                  123.0   NaN   \n",
       "16566       10.53          229.2          5.000                  123.0   NaN   \n",
       "16567       10.53          229.2          5.714                  140.0   NaN   \n",
       "16568       10.53          229.2          5.333                  140.0   NaN   \n",
       "\n",
       "       SeaTemperature  MeanCurSpeed  MeanCurDirTo  \n",
       "0               16.72           NaN           NaN  \n",
       "1               16.72         0.108     23.912088  \n",
       "2               16.72           NaN           NaN  \n",
       "3               16.72         0.138     29.010988  \n",
       "4               16.72           NaN           NaN  \n",
       "...               ...           ...           ...  \n",
       "16564           15.20           NaN           NaN  \n",
       "16565           15.20           NaN           NaN  \n",
       "16566           15.20           NaN           NaN  \n",
       "16567           15.20           NaN           NaN  \n",
       "16568           15.20           NaN           NaN  \n",
       "\n",
       "[250992 rows x 12 columns]"
      ]
     },
     "execution_count": 13,
     "metadata": {},
     "output_type": "execute_result"
    }
   ],
   "source": [
    "df_waves"
   ]
  },
  {
   "cell_type": "code",
   "execution_count": 14,
   "metadata": {},
   "outputs": [
    {
     "data": {
      "text/plain": [
       "((14586, 2), (2976, 2))"
      ]
     },
     "execution_count": 14,
     "metadata": {},
     "output_type": "execute_result"
    }
   ],
   "source": [
    "# let's create a split date to split our data based on time because it is a time series and the chronological order is very important\n",
    "final_date = df_waves['time'].max()\n",
    "# I chose to split the data 2 months in the past to predict these 2 months\n",
    "split_date = final_date + relativedelta(months=-2)\n",
    "\n",
    "# since the data is not symmetrically spaced, let's group it into a 30 minute interval and get the mean of the period\n",
    "# but why 30 min? We see that our max interval between dates were 30 min, if we get less than that, there would be some nan values.\n",
    "# prophet demands that the time columns is named 'ds' and the target is named 'y', so let's rename it\n",
    "df_waves_grouped_per_30_minutes = df_waves.groupby([pd.Grouper(key='time', freq='30Min')]).mean().reset_index().rename(columns={'time': 'ds', 'SeaTemperature': 'y'})[['ds', 'y']].copy()\n",
    "\n",
    "# split the data into train and test\n",
    "train = df_waves_grouped_per_30_minutes[df_waves_grouped_per_30_minutes['ds'] < split_date]\n",
    "val = df_waves_grouped_per_30_minutes[df_waves_grouped_per_30_minutes['ds'] >= split_date]\n",
    "\n",
    "train.shape, val.shape"
   ]
  },
  {
   "cell_type": "code",
   "execution_count": 15,
   "metadata": {},
   "outputs": [
    {
     "name": "stdout",
     "output_type": "stream",
     "text": [
      "ds    0\n",
      "y     0\n",
      "dtype: int64\n",
      "ds    0\n",
      "y     0\n",
      "dtype: int64\n"
     ]
    }
   ],
   "source": [
    "# check if there are null values\n",
    "print(train.isnull().sum())\n",
    "print(val.isnull().sum())"
   ]
  },
  {
   "cell_type": "code",
   "execution_count": 16,
   "metadata": {},
   "outputs": [
    {
     "data": {
      "text/html": [
       "<div>\n",
       "<style scoped>\n",
       "    .dataframe tbody tr th:only-of-type {\n",
       "        vertical-align: middle;\n",
       "    }\n",
       "\n",
       "    .dataframe tbody tr th {\n",
       "        vertical-align: top;\n",
       "    }\n",
       "\n",
       "    .dataframe thead th {\n",
       "        text-align: right;\n",
       "    }\n",
       "</style>\n",
       "<table border=\"1\" class=\"dataframe\">\n",
       "  <thead>\n",
       "    <tr style=\"text-align: right;\">\n",
       "      <th></th>\n",
       "      <th>ds</th>\n",
       "      <th>y</th>\n",
       "    </tr>\n",
       "  </thead>\n",
       "  <tbody>\n",
       "    <tr>\n",
       "      <th>0</th>\n",
       "      <td>2021-09-16 00:00:00</td>\n",
       "      <td>16.241765</td>\n",
       "    </tr>\n",
       "    <tr>\n",
       "      <th>1</th>\n",
       "      <td>2021-09-16 00:30:00</td>\n",
       "      <td>16.263000</td>\n",
       "    </tr>\n",
       "    <tr>\n",
       "      <th>2</th>\n",
       "      <td>2021-09-16 01:00:00</td>\n",
       "      <td>16.230000</td>\n",
       "    </tr>\n",
       "    <tr>\n",
       "      <th>3</th>\n",
       "      <td>2021-09-16 01:30:00</td>\n",
       "      <td>16.233000</td>\n",
       "    </tr>\n",
       "    <tr>\n",
       "      <th>4</th>\n",
       "      <td>2021-09-16 02:00:00</td>\n",
       "      <td>16.244000</td>\n",
       "    </tr>\n",
       "  </tbody>\n",
       "</table>\n",
       "</div>"
      ],
      "text/plain": [
       "                   ds          y\n",
       "0 2021-09-16 00:00:00  16.241765\n",
       "1 2021-09-16 00:30:00  16.263000\n",
       "2 2021-09-16 01:00:00  16.230000\n",
       "3 2021-09-16 01:30:00  16.233000\n",
       "4 2021-09-16 02:00:00  16.244000"
      ]
     },
     "execution_count": 16,
     "metadata": {},
     "output_type": "execute_result"
    }
   ],
   "source": [
    "# checking if the data interval it is correct\n",
    "train.head()"
   ]
  },
  {
   "cell_type": "code",
   "execution_count": 17,
   "metadata": {},
   "outputs": [
    {
     "data": {
      "text/html": [
       "<div>\n",
       "<style scoped>\n",
       "    .dataframe tbody tr th:only-of-type {\n",
       "        vertical-align: middle;\n",
       "    }\n",
       "\n",
       "    .dataframe tbody tr th {\n",
       "        vertical-align: top;\n",
       "    }\n",
       "\n",
       "    .dataframe thead th {\n",
       "        text-align: right;\n",
       "    }\n",
       "</style>\n",
       "<table border=\"1\" class=\"dataframe\">\n",
       "  <thead>\n",
       "    <tr style=\"text-align: right;\">\n",
       "      <th></th>\n",
       "      <th>ds</th>\n",
       "      <th>y</th>\n",
       "    </tr>\n",
       "  </thead>\n",
       "  <tbody>\n",
       "    <tr>\n",
       "      <th>14586</th>\n",
       "      <td>2022-07-16 21:00:00</td>\n",
       "      <td>18.321333</td>\n",
       "    </tr>\n",
       "    <tr>\n",
       "      <th>14587</th>\n",
       "      <td>2022-07-16 21:30:00</td>\n",
       "      <td>18.306667</td>\n",
       "    </tr>\n",
       "    <tr>\n",
       "      <th>14588</th>\n",
       "      <td>2022-07-16 22:00:00</td>\n",
       "      <td>18.260667</td>\n",
       "    </tr>\n",
       "    <tr>\n",
       "      <th>14589</th>\n",
       "      <td>2022-07-16 22:30:00</td>\n",
       "      <td>18.237333</td>\n",
       "    </tr>\n",
       "    <tr>\n",
       "      <th>14590</th>\n",
       "      <td>2022-07-16 23:00:00</td>\n",
       "      <td>18.211333</td>\n",
       "    </tr>\n",
       "  </tbody>\n",
       "</table>\n",
       "</div>"
      ],
      "text/plain": [
       "                       ds          y\n",
       "14586 2022-07-16 21:00:00  18.321333\n",
       "14587 2022-07-16 21:30:00  18.306667\n",
       "14588 2022-07-16 22:00:00  18.260667\n",
       "14589 2022-07-16 22:30:00  18.237333\n",
       "14590 2022-07-16 23:00:00  18.211333"
      ]
     },
     "execution_count": 17,
     "metadata": {},
     "output_type": "execute_result"
    }
   ],
   "source": [
    "val.head()"
   ]
  },
  {
   "cell_type": "code",
   "execution_count": 18,
   "metadata": {},
   "outputs": [
    {
     "name": "stderr",
     "output_type": "stream",
     "text": [
      "INFO:prophet:Disabling yearly seasonality. Run prophet with yearly_seasonality=True to override this.\n"
     ]
    },
    {
     "data": {
      "text/plain": [
       "<prophet.forecaster.Prophet at 0x1d28af38430>"
      ]
     },
     "execution_count": 18,
     "metadata": {},
     "output_type": "execute_result"
    }
   ],
   "source": [
    "# instantiate the model\n",
    "model = Prophet(\n",
    "changepoint_prior_scale= 0.5,\n",
    "seasonality_prior_scale= 10.0, \n",
    "seasonality_mode= 'additive'\n",
    ")\n",
    "\n",
    "# fit the model\n",
    "model.fit(train)"
   ]
  },
  {
   "cell_type": "code",
   "execution_count": 19,
   "metadata": {},
   "outputs": [],
   "source": [
    "# creating a future dataframe to predict with the shape of the validation\n",
    "future = model.make_future_dataframe(periods=val.shape[0], freq='30Min')"
   ]
  },
  {
   "cell_type": "code",
   "execution_count": 20,
   "metadata": {},
   "outputs": [
    {
     "data": {
      "text/html": [
       "<div>\n",
       "<style scoped>\n",
       "    .dataframe tbody tr th:only-of-type {\n",
       "        vertical-align: middle;\n",
       "    }\n",
       "\n",
       "    .dataframe tbody tr th {\n",
       "        vertical-align: top;\n",
       "    }\n",
       "\n",
       "    .dataframe thead th {\n",
       "        text-align: right;\n",
       "    }\n",
       "</style>\n",
       "<table border=\"1\" class=\"dataframe\">\n",
       "  <thead>\n",
       "    <tr style=\"text-align: right;\">\n",
       "      <th></th>\n",
       "      <th>ds</th>\n",
       "    </tr>\n",
       "  </thead>\n",
       "  <tbody>\n",
       "    <tr>\n",
       "      <th>17557</th>\n",
       "      <td>2022-09-16 18:30:00</td>\n",
       "    </tr>\n",
       "    <tr>\n",
       "      <th>17558</th>\n",
       "      <td>2022-09-16 19:00:00</td>\n",
       "    </tr>\n",
       "    <tr>\n",
       "      <th>17559</th>\n",
       "      <td>2022-09-16 19:30:00</td>\n",
       "    </tr>\n",
       "    <tr>\n",
       "      <th>17560</th>\n",
       "      <td>2022-09-16 20:00:00</td>\n",
       "    </tr>\n",
       "    <tr>\n",
       "      <th>17561</th>\n",
       "      <td>2022-09-16 20:30:00</td>\n",
       "    </tr>\n",
       "  </tbody>\n",
       "</table>\n",
       "</div>"
      ],
      "text/plain": [
       "                       ds\n",
       "17557 2022-09-16 18:30:00\n",
       "17558 2022-09-16 19:00:00\n",
       "17559 2022-09-16 19:30:00\n",
       "17560 2022-09-16 20:00:00\n",
       "17561 2022-09-16 20:30:00"
      ]
     },
     "execution_count": 20,
     "metadata": {},
     "output_type": "execute_result"
    }
   ],
   "source": [
    "future.tail()"
   ]
  },
  {
   "cell_type": "code",
   "execution_count": 21,
   "metadata": {},
   "outputs": [],
   "source": [
    "fcst = model.predict(future)"
   ]
  },
  {
   "cell_type": "code",
   "execution_count": 22,
   "metadata": {},
   "outputs": [
    {
     "data": {
      "image/png": "[encoded data removed]",
      "text/plain": [
       "<Figure size 720x432 with 1 Axes>"
      ]
     },
     "metadata": {},
     "output_type": "display_data"
    }
   ],
   "source": [
    "fig = model.plot(fcst)"
   ]
  },
  {
   "cell_type": "code",
   "execution_count": 23,
   "metadata": {},
   "outputs": [],
   "source": [
    "# Create two functions to help us visualize the difference between predictions and real values"
   ]
  },
  {
   "cell_type": "code",
   "execution_count": 24,
   "metadata": {},
   "outputs": [],
   "source": [
    "def make_verif(forecast, data_train, data_test): \n",
    "    \"\"\"\n",
    "    Put together the forecast (coming from fbprophet) \n",
    "    and the overved data, and set the index to be a proper datetime index, \n",
    "    for plotting\n",
    "    Parameters\n",
    "    ----------\n",
    "    forecast : pandas.DataFrame \n",
    "        The pandas.DataFrame coming from the `forecast` method of a fbprophet \n",
    "        model. \n",
    "    \n",
    "    data_train : pandas.DataFrame\n",
    "        The training set, pandas.DataFrame\n",
    "    data_test : pandas.DataFrame\n",
    "        The training set, pandas.DataFrame\n",
    "    \n",
    "    Returns\n",
    "    -------\n",
    "    forecast : \n",
    "        The forecast DataFrane including the original observed data.\n",
    "    \"\"\"\n",
    "    \n",
    "    forecast.index = pd.to_datetime(forecast.ds)\n",
    "    \n",
    "    data_train.index = pd.to_datetime(data_train.ds)\n",
    "    \n",
    "    data_test.index = pd.to_datetime(data_test.ds)\n",
    "    \n",
    "    data = pd.concat([data_train, data_test], axis=0)\n",
    "    \n",
    "    forecast.loc[:,'y'] = data.loc[:,'y']\n",
    "    \n",
    "    return forecast"
   ]
  },
  {
   "cell_type": "code",
   "execution_count": 25,
   "metadata": {},
   "outputs": [],
   "source": [
    "def plot_verif(verif, data_train):\n",
    "    \"\"\"\n",
    "    plots the forecasts and observed data, the `data_train` argument is used to visualise \n",
    "    the division between the training and test sets. \n",
    "    Parameters\n",
    "    ----------\n",
    "    verif : pandas.DataFrame\n",
    "        The `verif` DataFrame coming from the `make_verif` function in this package\n",
    "    data_train : pandas.DataFrame\n",
    "        The training set, pandas.DataFrame\n",
    "    Returns\n",
    "    -------\n",
    "    f : matplotlib Figure object\n",
    "    \"\"\"\n",
    "    \n",
    "    f, ax = plt.subplots(figsize=(14, 8))\n",
    "    \n",
    "    train = verif[data_train.shape[0]:]\n",
    "    \n",
    "    ax.plot(train.index, train.y, 'ro', markersize=3)\n",
    "    \n",
    "    ax.plot(train.index, train.yhat, color='steelblue', lw=0.5)\n",
    "    \n",
    "    ax.fill_between(train.index, train.yhat_lower, train.yhat_upper, color='steelblue', alpha=0.3)\n",
    "    \n",
    "    test = verif[:data_train.shape[0]]\n",
    "    \n",
    "    ax.plot(test.index, test.y, 'ko', markersize=3)\n",
    "    \n",
    "    ax.plot(test.index, test.yhat, color='coral', lw=0.5)\n",
    "    \n",
    "    ax.fill_between(test.index, test.yhat_lower, test.yhat_upper, color='coral', alpha=0.3)\n",
    "    \n",
    "    ax.axvline(data_train.iloc[-1]['ds'].strftime(\"%Y-%m-%d %H:%M:%S\"), color='0.2', alpha=0.7)\n",
    "    \n",
    "    ax.grid(ls=':', lw=0.5)\n",
    "    \n",
    "    return f"
   ]
  },
  {
   "cell_type": "code",
   "execution_count": 26,
   "metadata": {},
   "outputs": [
    {
     "data": {
      "image/png": "[encoded data removed]",
      "text/plain": [
       "<Figure size 1008x576 with 1 Axes>"
      ]
     },
     "metadata": {
      "needs_background": "light"
     },
     "output_type": "display_data"
    }
   ],
   "source": [
    "# veryfing the predicted and actual observations\n",
    "verif = make_verif(fcst, train, val)\n",
    "plot_evaluate = plot_verif(verif, train)"
   ]
  },
  {
   "cell_type": "code",
   "execution_count": 27,
   "metadata": {},
   "outputs": [
    {
     "data": {
      "image/png": "[encoded data removed]",
      "text/plain": [
       "<Figure size 648x648 with 3 Axes>"
      ]
     },
     "metadata": {},
     "output_type": "display_data"
    }
   ],
   "source": [
    "# components of the model\n",
    "fig = model.plot_components(fcst)"
   ]
  },
  {
   "cell_type": "code",
   "execution_count": 28,
   "metadata": {},
   "outputs": [],
   "source": [
    "# calculating metrics to see the performance of the train and test sets\n",
    "real_train_values = model.history\n",
    "real_test_values = val.copy()\n",
    "predicted_values_train = fcst[:model.history.shape[0]]\n",
    "predicted_values_test = fcst[model.history.shape[0]:]\n",
    "\n",
    "rmse_train = mean_squared_error(real_train_values['y'], predicted_values_train['yhat'], squared=False)\n",
    "mae_train = mean_absolute_error(real_train_values['y'], predicted_values_train['yhat'])\n",
    "r2score_train = r2_score(real_train_values['y'], predicted_values_train['yhat'])\n",
    "mape_train = mean_absolute_percentage_error(real_train_values['y'], predicted_values_train['yhat'])\n",
    "\n",
    "rmse_test = mean_squared_error(real_test_values['y'], predicted_values_test['yhat'], squared=False)\n",
    "mae_test = mean_absolute_error(real_test_values['y'], predicted_values_test['yhat'])\n",
    "r2score_test = r2_score(real_test_values['y'], predicted_values_test['yhat'])\n",
    "mape_test = mean_absolute_percentage_error(real_test_values['y'], predicted_values_test['yhat'])"
   ]
  },
  {
   "cell_type": "code",
   "execution_count": 29,
   "metadata": {},
   "outputs": [],
   "source": [
    "df_metrics_eval = pd.DataFrame(\n",
    "    [{\n",
    "        \"rmse_train\": rmse_train,\n",
    "        \"mae_train\": mae_train,\n",
    "        \"mape_train\": mape_train,\n",
    "        \"r2_train\": r2score_train,\n",
    "        \"rmse_test\": rmse_test,\n",
    "        \"mae_test\": mae_test,\n",
    "        \"mape_test\": mape_test,\n",
    "        \"r2_test\": r2score_test,\n",
    "    }]\n",
    ")"
   ]
  },
  {
   "cell_type": "code",
   "execution_count": 31,
   "metadata": {},
   "outputs": [
    {
     "data": {
      "text/html": [
       "<div>\n",
       "<style scoped>\n",
       "    .dataframe tbody tr th:only-of-type {\n",
       "        vertical-align: middle;\n",
       "    }\n",
       "\n",
       "    .dataframe tbody tr th {\n",
       "        vertical-align: top;\n",
       "    }\n",
       "\n",
       "    .dataframe thead th {\n",
       "        text-align: right;\n",
       "    }\n",
       "</style>\n",
       "<table border=\"1\" class=\"dataframe\">\n",
       "  <thead>\n",
       "    <tr style=\"text-align: right;\">\n",
       "      <th></th>\n",
       "      <th>rmse_train</th>\n",
       "      <th>mae_train</th>\n",
       "      <th>mape_train</th>\n",
       "      <th>r2_train</th>\n",
       "      <th>rmse_test</th>\n",
       "      <th>mae_test</th>\n",
       "      <th>mape_test</th>\n",
       "      <th>r2_test</th>\n",
       "    </tr>\n",
       "  </thead>\n",
       "  <tbody>\n",
       "    <tr>\n",
       "      <th>0</th>\n",
       "      <td>0.50866</td>\n",
       "      <td>0.342025</td>\n",
       "      <td>0.027945</td>\n",
       "      <td>0.963163</td>\n",
       "      <td>2.526067</td>\n",
       "      <td>2.097714</td>\n",
       "      <td>0.125514</td>\n",
       "      <td>-8.943772</td>\n",
       "    </tr>\n",
       "  </tbody>\n",
       "</table>\n",
       "</div>"
      ],
      "text/plain": [
       "   rmse_train  mae_train  mape_train  r2_train  rmse_test  mae_test  \\\n",
       "0     0.50866   0.342025    0.027945  0.963163   2.526067  2.097714   \n",
       "\n",
       "   mape_test   r2_test  \n",
       "0   0.125514 -8.943772  "
      ]
     },
     "execution_count": 31,
     "metadata": {},
     "output_type": "execute_result"
    }
   ],
   "source": [
    "df_metrics_eval"
   ]
  },
  {
   "cell_type": "markdown",
   "metadata": {},
   "source": [
    "The model seems to overfit a lot, and it doesn't provide good predictions. On the train data it provides very good results, with low rmse and a high r2_score, but in the test data the metrics get a lot worse.\n",
    "\n",
    "We can see on the chart that it captures the tendency to grow, but the model ignore that there are a strong seasonality due to the seasons of the year and the temperature can't continuous grow like that.\n",
    "\n",
    "Another way to improve the model it was passing the location, enhancing the predict.\n",
    "\n",
    "The model need to be optimized to capture these seasonalities and predict with more accuracy. Since we only collected data for a year, I am sure that if we had data on more years, the model would capture these patterns in a better way."
   ]
  },
  {
   "cell_type": "markdown",
   "metadata": {},
   "source": [
    "### 2. Group the oceans using a machine learning model suited to this task. (Recommended use of Python)\n"
   ]
  },
  {
   "cell_type": "markdown",
   "metadata": {},
   "source": [
    "### EDA"
   ]
  },
  {
   "cell_type": "code",
   "execution_count": 32,
   "metadata": {},
   "outputs": [],
   "source": [
    "# sorting the dataset\n",
    "df_tides = df_tides.sort_values(by='time')"
   ]
  },
  {
   "cell_type": "code",
   "execution_count": 33,
   "metadata": {},
   "outputs": [
    {
     "data": {
      "text/html": [
       "<div>\n",
       "<style scoped>\n",
       "    .dataframe tbody tr th:only-of-type {\n",
       "        vertical-align: middle;\n",
       "    }\n",
       "\n",
       "    .dataframe tbody tr th {\n",
       "        vertical-align: top;\n",
       "    }\n",
       "\n",
       "    .dataframe thead th {\n",
       "        text-align: right;\n",
       "    }\n",
       "</style>\n",
       "<table border=\"1\" class=\"dataframe\">\n",
       "  <thead>\n",
       "    <tr style=\"text-align: right;\">\n",
       "      <th></th>\n",
       "      <th>time</th>\n",
       "      <th>station_id</th>\n",
       "      <th>latitude</th>\n",
       "      <th>longitude</th>\n",
       "      <th>Water_Level_LAT</th>\n",
       "      <th>Water_Level_OD_Malin</th>\n",
       "      <th>QC_Flag</th>\n",
       "    </tr>\n",
       "  </thead>\n",
       "  <tbody>\n",
       "    <tr>\n",
       "      <th>0</th>\n",
       "      <td>2021-09-16 00:05:00</td>\n",
       "      <td>Dingle Harbour</td>\n",
       "      <td>52.13924</td>\n",
       "      <td>-10.27732</td>\n",
       "      <td>3.346</td>\n",
       "      <td>0.791</td>\n",
       "      <td>1</td>\n",
       "    </tr>\n",
       "    <tr>\n",
       "      <th>0</th>\n",
       "      <td>2021-09-16 00:05:00</td>\n",
       "      <td>Ballyglass Harbour</td>\n",
       "      <td>54.25360</td>\n",
       "      <td>-9.89280</td>\n",
       "      <td>2.669</td>\n",
       "      <td>0.565</td>\n",
       "      <td>1</td>\n",
       "    </tr>\n",
       "    <tr>\n",
       "      <th>0</th>\n",
       "      <td>2021-09-16 00:05:00</td>\n",
       "      <td>Roonagh Pier</td>\n",
       "      <td>53.76235</td>\n",
       "      <td>-9.90442</td>\n",
       "      <td>3.144</td>\n",
       "      <td>1.189</td>\n",
       "      <td>0</td>\n",
       "    </tr>\n",
       "    <tr>\n",
       "      <th>0</th>\n",
       "      <td>2021-09-16 00:05:00</td>\n",
       "      <td>Wexford Harbour</td>\n",
       "      <td>52.33850</td>\n",
       "      <td>-6.45890</td>\n",
       "      <td>1.177</td>\n",
       "      <td>0.221</td>\n",
       "      <td>1</td>\n",
       "    </tr>\n",
       "    <tr>\n",
       "      <th>0</th>\n",
       "      <td>2021-09-16 00:05:00</td>\n",
       "      <td>Skerries Harbour</td>\n",
       "      <td>53.58500</td>\n",
       "      <td>-6.10810</td>\n",
       "      <td>1.647</td>\n",
       "      <td>-1.212</td>\n",
       "      <td>0</td>\n",
       "    </tr>\n",
       "    <tr>\n",
       "      <th>...</th>\n",
       "      <td>...</td>\n",
       "      <td>...</td>\n",
       "      <td>...</td>\n",
       "      <td>...</td>\n",
       "      <td>...</td>\n",
       "      <td>...</td>\n",
       "      <td>...</td>\n",
       "    </tr>\n",
       "    <tr>\n",
       "      <th>98954</th>\n",
       "      <td>2022-09-16 20:25:00</td>\n",
       "      <td>Dingle Harbour</td>\n",
       "      <td>52.13924</td>\n",
       "      <td>-10.27732</td>\n",
       "      <td>3.481</td>\n",
       "      <td>0.926</td>\n",
       "      <td>0</td>\n",
       "    </tr>\n",
       "    <tr>\n",
       "      <th>96735</th>\n",
       "      <td>2022-09-16 20:25:00</td>\n",
       "      <td>Aranmore Island - Leabgarrow</td>\n",
       "      <td>54.99050</td>\n",
       "      <td>-8.49550</td>\n",
       "      <td>2.787</td>\n",
       "      <td>0.584</td>\n",
       "      <td>0</td>\n",
       "    </tr>\n",
       "    <tr>\n",
       "      <th>104396</th>\n",
       "      <td>2022-09-16 20:25:00</td>\n",
       "      <td>Ballyglass Harbour</td>\n",
       "      <td>54.25360</td>\n",
       "      <td>-9.89280</td>\n",
       "      <td>2.790</td>\n",
       "      <td>0.686</td>\n",
       "      <td>0</td>\n",
       "    </tr>\n",
       "    <tr>\n",
       "      <th>52473</th>\n",
       "      <td>2022-09-16 20:25:00</td>\n",
       "      <td>Ballycotton Harbour</td>\n",
       "      <td>51.82780</td>\n",
       "      <td>-8.00070</td>\n",
       "      <td>3.642</td>\n",
       "      <td>1.153</td>\n",
       "      <td>0</td>\n",
       "    </tr>\n",
       "    <tr>\n",
       "      <th>82875</th>\n",
       "      <td>2022-09-16 20:25:00</td>\n",
       "      <td>Skerries Harbour</td>\n",
       "      <td>53.58500</td>\n",
       "      <td>-6.10810</td>\n",
       "      <td>1.181</td>\n",
       "      <td>-1.678</td>\n",
       "      <td>0</td>\n",
       "    </tr>\n",
       "  </tbody>\n",
       "</table>\n",
       "<p>1330778 rows × 7 columns</p>\n",
       "</div>"
      ],
      "text/plain": [
       "                      time                    station_id  latitude  longitude  \\\n",
       "0      2021-09-16 00:05:00                Dingle Harbour  52.13924  -10.27732   \n",
       "0      2021-09-16 00:05:00            Ballyglass Harbour  54.25360   -9.89280   \n",
       "0      2021-09-16 00:05:00                  Roonagh Pier  53.76235   -9.90442   \n",
       "0      2021-09-16 00:05:00               Wexford Harbour  52.33850   -6.45890   \n",
       "0      2021-09-16 00:05:00              Skerries Harbour  53.58500   -6.10810   \n",
       "...                    ...                           ...       ...        ...   \n",
       "98954  2022-09-16 20:25:00                Dingle Harbour  52.13924  -10.27732   \n",
       "96735  2022-09-16 20:25:00  Aranmore Island - Leabgarrow  54.99050   -8.49550   \n",
       "104396 2022-09-16 20:25:00            Ballyglass Harbour  54.25360   -9.89280   \n",
       "52473  2022-09-16 20:25:00           Ballycotton Harbour  51.82780   -8.00070   \n",
       "82875  2022-09-16 20:25:00              Skerries Harbour  53.58500   -6.10810   \n",
       "\n",
       "        Water_Level_LAT  Water_Level_OD_Malin  QC_Flag  \n",
       "0                 3.346                 0.791        1  \n",
       "0                 2.669                 0.565        1  \n",
       "0                 3.144                 1.189        0  \n",
       "0                 1.177                 0.221        1  \n",
       "0                 1.647                -1.212        0  \n",
       "...                 ...                   ...      ...  \n",
       "98954             3.481                 0.926        0  \n",
       "96735             2.787                 0.584        0  \n",
       "104396            2.790                 0.686        0  \n",
       "52473             3.642                 1.153        0  \n",
       "82875             1.181                -1.678        0  \n",
       "\n",
       "[1330778 rows x 7 columns]"
      ]
     },
     "execution_count": 33,
     "metadata": {},
     "output_type": "execute_result"
    }
   ],
   "source": [
    "df_tides"
   ]
  },
  {
   "cell_type": "code",
   "execution_count": 34,
   "metadata": {},
   "outputs": [
    {
     "data": {
      "text/plain": [
       "(1330778, 7)"
      ]
     },
     "execution_count": 34,
     "metadata": {},
     "output_type": "execute_result"
    }
   ],
   "source": [
    "df_tides.shape"
   ]
  },
  {
   "cell_type": "code",
   "execution_count": 52,
   "metadata": {},
   "outputs": [],
   "source": [
    "# Since we will build clusters, let's group the data into every station_id\n",
    "df_tides_grouped_per_station = df_tides.groupby(['station_id']).mean().reset_index()"
   ]
  },
  {
   "cell_type": "code",
   "execution_count": 53,
   "metadata": {},
   "outputs": [
    {
     "data": {
      "text/html": [
       "<div>\n",
       "<style scoped>\n",
       "    .dataframe tbody tr th:only-of-type {\n",
       "        vertical-align: middle;\n",
       "    }\n",
       "\n",
       "    .dataframe tbody tr th {\n",
       "        vertical-align: top;\n",
       "    }\n",
       "\n",
       "    .dataframe thead th {\n",
       "        text-align: right;\n",
       "    }\n",
       "</style>\n",
       "<table border=\"1\" class=\"dataframe\">\n",
       "  <thead>\n",
       "    <tr style=\"text-align: right;\">\n",
       "      <th></th>\n",
       "      <th>station_id</th>\n",
       "      <th>latitude</th>\n",
       "      <th>longitude</th>\n",
       "      <th>Water_Level_LAT</th>\n",
       "      <th>Water_Level_OD_Malin</th>\n",
       "      <th>QC_Flag</th>\n",
       "    </tr>\n",
       "  </thead>\n",
       "  <tbody>\n",
       "    <tr>\n",
       "      <th>0</th>\n",
       "      <td>Aranmore Island - Leabgarrow</td>\n",
       "      <td>54.990500</td>\n",
       "      <td>-8.49550</td>\n",
       "      <td>2.237245</td>\n",
       "      <td>0.034245</td>\n",
       "      <td>0.930047</td>\n",
       "    </tr>\n",
       "    <tr>\n",
       "      <th>1</th>\n",
       "      <td>Ballycotton Harbour</td>\n",
       "      <td>51.827800</td>\n",
       "      <td>-8.00070</td>\n",
       "      <td>2.384431</td>\n",
       "      <td>-0.104569</td>\n",
       "      <td>0.871555</td>\n",
       "    </tr>\n",
       "    <tr>\n",
       "      <th>2</th>\n",
       "      <td>Ballyglass Harbour</td>\n",
       "      <td>54.253600</td>\n",
       "      <td>-9.89280</td>\n",
       "      <td>2.024153</td>\n",
       "      <td>-0.079847</td>\n",
       "      <td>0.935218</td>\n",
       "    </tr>\n",
       "    <tr>\n",
       "      <th>3</th>\n",
       "      <td>Castletownbere Port</td>\n",
       "      <td>51.649600</td>\n",
       "      <td>-9.90340</td>\n",
       "      <td>1.882076</td>\n",
       "      <td>-0.207924</td>\n",
       "      <td>0.920984</td>\n",
       "    </tr>\n",
       "    <tr>\n",
       "      <th>4</th>\n",
       "      <td>Dingle Harbour</td>\n",
       "      <td>52.139240</td>\n",
       "      <td>-10.27732</td>\n",
       "      <td>2.489094</td>\n",
       "      <td>-0.065906</td>\n",
       "      <td>0.931706</td>\n",
       "    </tr>\n",
       "    <tr>\n",
       "      <th>5</th>\n",
       "      <td>Dublin Port</td>\n",
       "      <td>53.345700</td>\n",
       "      <td>-6.22170</td>\n",
       "      <td>2.519070</td>\n",
       "      <td>0.014070</td>\n",
       "      <td>0.000000</td>\n",
       "    </tr>\n",
       "    <tr>\n",
       "      <th>6</th>\n",
       "      <td>Galway Port</td>\n",
       "      <td>53.269000</td>\n",
       "      <td>-9.04800</td>\n",
       "      <td>2.999361</td>\n",
       "      <td>0.032361</td>\n",
       "      <td>0.935729</td>\n",
       "    </tr>\n",
       "    <tr>\n",
       "      <th>7</th>\n",
       "      <td>Howth Water Level 1</td>\n",
       "      <td>53.391335</td>\n",
       "      <td>-6.06809</td>\n",
       "      <td>NaN</td>\n",
       "      <td>-0.080356</td>\n",
       "      <td>0.933877</td>\n",
       "    </tr>\n",
       "    <tr>\n",
       "      <th>8</th>\n",
       "      <td>Killybegs Port</td>\n",
       "      <td>54.636400</td>\n",
       "      <td>-8.39490</td>\n",
       "      <td>2.332173</td>\n",
       "      <td>0.039173</td>\n",
       "      <td>0.917704</td>\n",
       "    </tr>\n",
       "    <tr>\n",
       "      <th>9</th>\n",
       "      <td>Kinvara - Unreferenced</td>\n",
       "      <td>53.140520</td>\n",
       "      <td>-8.93758</td>\n",
       "      <td>NaN</td>\n",
       "      <td>-2.365941</td>\n",
       "      <td>0.831120</td>\n",
       "    </tr>\n",
       "    <tr>\n",
       "      <th>10</th>\n",
       "      <td>Roonagh Pier</td>\n",
       "      <td>53.762350</td>\n",
       "      <td>-9.90442</td>\n",
       "      <td>2.425708</td>\n",
       "      <td>0.470708</td>\n",
       "      <td>0.000000</td>\n",
       "    </tr>\n",
       "    <tr>\n",
       "      <th>11</th>\n",
       "      <td>Skerries Harbour</td>\n",
       "      <td>53.585000</td>\n",
       "      <td>-6.10810</td>\n",
       "      <td>2.768237</td>\n",
       "      <td>-0.090763</td>\n",
       "      <td>0.000000</td>\n",
       "    </tr>\n",
       "    <tr>\n",
       "      <th>12</th>\n",
       "      <td>Sligo</td>\n",
       "      <td>54.309900</td>\n",
       "      <td>-8.58200</td>\n",
       "      <td>2.265840</td>\n",
       "      <td>0.020840</td>\n",
       "      <td>0.892706</td>\n",
       "    </tr>\n",
       "    <tr>\n",
       "      <th>13</th>\n",
       "      <td>Union Hall Harbor</td>\n",
       "      <td>51.558964</td>\n",
       "      <td>-9.13349</td>\n",
       "      <td>NaN</td>\n",
       "      <td>-0.204473</td>\n",
       "      <td>0.935398</td>\n",
       "    </tr>\n",
       "    <tr>\n",
       "      <th>14</th>\n",
       "      <td>Wexford Harbour</td>\n",
       "      <td>52.338500</td>\n",
       "      <td>-6.45890</td>\n",
       "      <td>0.861423</td>\n",
       "      <td>-0.094577</td>\n",
       "      <td>0.935892</td>\n",
       "    </tr>\n",
       "  </tbody>\n",
       "</table>\n",
       "</div>"
      ],
      "text/plain": [
       "                      station_id   latitude  longitude  Water_Level_LAT  \\\n",
       "0   Aranmore Island - Leabgarrow  54.990500   -8.49550         2.237245   \n",
       "1            Ballycotton Harbour  51.827800   -8.00070         2.384431   \n",
       "2             Ballyglass Harbour  54.253600   -9.89280         2.024153   \n",
       "3            Castletownbere Port  51.649600   -9.90340         1.882076   \n",
       "4                 Dingle Harbour  52.139240  -10.27732         2.489094   \n",
       "5                    Dublin Port  53.345700   -6.22170         2.519070   \n",
       "6                    Galway Port  53.269000   -9.04800         2.999361   \n",
       "7            Howth Water Level 1  53.391335   -6.06809              NaN   \n",
       "8                 Killybegs Port  54.636400   -8.39490         2.332173   \n",
       "9         Kinvara - Unreferenced  53.140520   -8.93758              NaN   \n",
       "10                  Roonagh Pier  53.762350   -9.90442         2.425708   \n",
       "11              Skerries Harbour  53.585000   -6.10810         2.768237   \n",
       "12                         Sligo  54.309900   -8.58200         2.265840   \n",
       "13             Union Hall Harbor  51.558964   -9.13349              NaN   \n",
       "14               Wexford Harbour  52.338500   -6.45890         0.861423   \n",
       "\n",
       "    Water_Level_OD_Malin   QC_Flag  \n",
       "0               0.034245  0.930047  \n",
       "1              -0.104569  0.871555  \n",
       "2              -0.079847  0.935218  \n",
       "3              -0.207924  0.920984  \n",
       "4              -0.065906  0.931706  \n",
       "5               0.014070  0.000000  \n",
       "6               0.032361  0.935729  \n",
       "7              -0.080356  0.933877  \n",
       "8               0.039173  0.917704  \n",
       "9              -2.365941  0.831120  \n",
       "10              0.470708  0.000000  \n",
       "11             -0.090763  0.000000  \n",
       "12              0.020840  0.892706  \n",
       "13             -0.204473  0.935398  \n",
       "14             -0.094577  0.935892  "
      ]
     },
     "execution_count": 53,
     "metadata": {},
     "output_type": "execute_result"
    }
   ],
   "source": [
    "df_tides_grouped_per_station"
   ]
  },
  {
   "cell_type": "code",
   "execution_count": 54,
   "metadata": {},
   "outputs": [
    {
     "data": {
      "text/plain": [
       "station_id              0\n",
       "latitude                0\n",
       "longitude               0\n",
       "Water_Level_LAT         3\n",
       "Water_Level_OD_Malin    0\n",
       "QC_Flag                 0\n",
       "dtype: int64"
      ]
     },
     "execution_count": 54,
     "metadata": {},
     "output_type": "execute_result"
    }
   ],
   "source": [
    "# Check for missing data\n",
    "df_tides_grouped_per_station.isnull().sum()"
   ]
  },
  {
   "cell_type": "markdown",
   "metadata": {},
   "source": [
    "### Model"
   ]
  },
  {
   "cell_type": "markdown",
   "metadata": {},
   "source": [
    "We will be using the model that is considered one of the simplest models amongst clustering. Despite its simplicity, the **K-means** is vastly used for clustering in many data science applications, it is especially useful if you need to quickly discover insights from **unlabeled data**."
   ]
  },
  {
   "cell_type": "code",
   "execution_count": 55,
   "metadata": {},
   "outputs": [],
   "source": [
    "from sklearn.cluster import KMeans "
   ]
  },
  {
   "cell_type": "code",
   "execution_count": 56,
   "metadata": {},
   "outputs": [],
   "source": [
    "# to instantiate our model, let's define the number of clusters to form as well as the number of centroids to generate.\n",
    "# and the n_init that is the number of time the k-means algorithm will be run with different centroid seeds. The final results will be the best output of n_init consecutive runs in terms of inertia.\n",
    "k_means = KMeans(init = \"k-means++\", n_clusters = 4, n_init = 12)"
   ]
  },
  {
   "cell_type": "code",
   "execution_count": 57,
   "metadata": {},
   "outputs": [
    {
     "data": {
      "text/plain": [
       "KMeans(n_clusters=4, n_init=12)"
      ]
     },
     "execution_count": 57,
     "metadata": {},
     "output_type": "execute_result"
    }
   ],
   "source": [
    "# fit the model\n",
    "k_means.fit(df_tides_grouped_per_station[['Water_Level_OD_Malin', 'QC_Flag']])"
   ]
  },
  {
   "cell_type": "code",
   "execution_count": 58,
   "metadata": {},
   "outputs": [
    {
     "data": {
      "text/plain": [
       "array([0, 0, 0, 0, 0, 2, 0, 0, 0, 1, 3, 2, 0, 0, 0])"
      ]
     },
     "execution_count": 58,
     "metadata": {},
     "output_type": "execute_result"
    }
   ],
   "source": [
    "# see the labels\n",
    "k_means_labels = k_means.labels_\n",
    "k_means_labels"
   ]
  },
  {
   "cell_type": "code",
   "execution_count": 59,
   "metadata": {},
   "outputs": [
    {
     "data": {
      "text/plain": [
       "array([[-0.06463943,  0.92189249],\n",
       "       [-2.36594059,  0.83111979],\n",
       "       [-0.03834625,  0.        ],\n",
       "       [ 0.47070788,  0.        ]])"
      ]
     },
     "execution_count": 59,
     "metadata": {},
     "output_type": "execute_result"
    }
   ],
   "source": [
    "# check the centers\n",
    "k_means_cluster_centers = k_means.cluster_centers_\n",
    "k_means_cluster_centers"
   ]
  },
  {
   "cell_type": "code",
   "execution_count": 60,
   "metadata": {},
   "outputs": [],
   "source": [
    "# insert the cluster label to our dataset\n",
    "df_tides_grouped_per_station.insert(0, 'Cluster Labels', k_means.labels_)"
   ]
  },
  {
   "cell_type": "code",
   "execution_count": 61,
   "metadata": {},
   "outputs": [
    {
     "name": "stdout",
     "output_type": "stream",
     "text": [
      "There are 11 registers on Cluster 0\n",
      "There are 1 registers on Cluster 1\n",
      "There are 2 registers on Cluster 2\n",
      "There are 1 registers on Cluster 3\n"
     ]
    }
   ],
   "source": [
    "# print the number of records in each cluster\n",
    "for cluster in np.sort(df_tides_grouped_per_station['Cluster Labels'].unique()):\n",
    "    print(f'There are {df_tides_grouped_per_station.loc[df_tides_grouped_per_station[\"Cluster Labels\"] == cluster].shape[0]} registers on Cluster {cluster}')"
   ]
  },
  {
   "cell_type": "code",
   "execution_count": 62,
   "metadata": {},
   "outputs": [
    {
     "data": {
      "text/html": [
       "<div>\n",
       "<style scoped>\n",
       "    .dataframe tbody tr th:only-of-type {\n",
       "        vertical-align: middle;\n",
       "    }\n",
       "\n",
       "    .dataframe tbody tr th {\n",
       "        vertical-align: top;\n",
       "    }\n",
       "\n",
       "    .dataframe thead tr th {\n",
       "        text-align: left;\n",
       "    }\n",
       "\n",
       "    .dataframe thead tr:last-of-type th {\n",
       "        text-align: right;\n",
       "    }\n",
       "</style>\n",
       "<table border=\"1\" class=\"dataframe\">\n",
       "  <thead>\n",
       "    <tr>\n",
       "      <th></th>\n",
       "      <th colspan=\"8\" halign=\"left\">Water_Level_OD_Malin</th>\n",
       "      <th colspan=\"8\" halign=\"left\">QC_Flag</th>\n",
       "    </tr>\n",
       "    <tr>\n",
       "      <th></th>\n",
       "      <th>count</th>\n",
       "      <th>mean</th>\n",
       "      <th>std</th>\n",
       "      <th>min</th>\n",
       "      <th>25%</th>\n",
       "      <th>50%</th>\n",
       "      <th>75%</th>\n",
       "      <th>max</th>\n",
       "      <th>count</th>\n",
       "      <th>mean</th>\n",
       "      <th>std</th>\n",
       "      <th>min</th>\n",
       "      <th>25%</th>\n",
       "      <th>50%</th>\n",
       "      <th>75%</th>\n",
       "      <th>max</th>\n",
       "    </tr>\n",
       "    <tr>\n",
       "      <th>Cluster Labels</th>\n",
       "      <th></th>\n",
       "      <th></th>\n",
       "      <th></th>\n",
       "      <th></th>\n",
       "      <th></th>\n",
       "      <th></th>\n",
       "      <th></th>\n",
       "      <th></th>\n",
       "      <th></th>\n",
       "      <th></th>\n",
       "      <th></th>\n",
       "      <th></th>\n",
       "      <th></th>\n",
       "      <th></th>\n",
       "      <th></th>\n",
       "      <th></th>\n",
       "    </tr>\n",
       "  </thead>\n",
       "  <tbody>\n",
       "    <tr>\n",
       "      <th>0</th>\n",
       "      <td>11.0</td>\n",
       "      <td>-0.064639</td>\n",
       "      <td>0.089624</td>\n",
       "      <td>-0.207924</td>\n",
       "      <td>-0.099573</td>\n",
       "      <td>-0.079847</td>\n",
       "      <td>0.026600</td>\n",
       "      <td>0.039173</td>\n",
       "      <td>11.0</td>\n",
       "      <td>0.921892</td>\n",
       "      <td>0.021114</td>\n",
       "      <td>0.871555</td>\n",
       "      <td>0.919344</td>\n",
       "      <td>0.931706</td>\n",
       "      <td>0.935308</td>\n",
       "      <td>0.935892</td>\n",
       "    </tr>\n",
       "    <tr>\n",
       "      <th>1</th>\n",
       "      <td>1.0</td>\n",
       "      <td>-2.365941</td>\n",
       "      <td>NaN</td>\n",
       "      <td>-2.365941</td>\n",
       "      <td>-2.365941</td>\n",
       "      <td>-2.365941</td>\n",
       "      <td>-2.365941</td>\n",
       "      <td>-2.365941</td>\n",
       "      <td>1.0</td>\n",
       "      <td>0.831120</td>\n",
       "      <td>NaN</td>\n",
       "      <td>0.831120</td>\n",
       "      <td>0.831120</td>\n",
       "      <td>0.831120</td>\n",
       "      <td>0.831120</td>\n",
       "      <td>0.831120</td>\n",
       "    </tr>\n",
       "    <tr>\n",
       "      <th>2</th>\n",
       "      <td>2.0</td>\n",
       "      <td>-0.038346</td>\n",
       "      <td>0.074128</td>\n",
       "      <td>-0.090763</td>\n",
       "      <td>-0.064554</td>\n",
       "      <td>-0.038346</td>\n",
       "      <td>-0.012138</td>\n",
       "      <td>0.014070</td>\n",
       "      <td>2.0</td>\n",
       "      <td>0.000000</td>\n",
       "      <td>0.000000</td>\n",
       "      <td>0.000000</td>\n",
       "      <td>0.000000</td>\n",
       "      <td>0.000000</td>\n",
       "      <td>0.000000</td>\n",
       "      <td>0.000000</td>\n",
       "    </tr>\n",
       "    <tr>\n",
       "      <th>3</th>\n",
       "      <td>1.0</td>\n",
       "      <td>0.470708</td>\n",
       "      <td>NaN</td>\n",
       "      <td>0.470708</td>\n",
       "      <td>0.470708</td>\n",
       "      <td>0.470708</td>\n",
       "      <td>0.470708</td>\n",
       "      <td>0.470708</td>\n",
       "      <td>1.0</td>\n",
       "      <td>0.000000</td>\n",
       "      <td>NaN</td>\n",
       "      <td>0.000000</td>\n",
       "      <td>0.000000</td>\n",
       "      <td>0.000000</td>\n",
       "      <td>0.000000</td>\n",
       "      <td>0.000000</td>\n",
       "    </tr>\n",
       "  </tbody>\n",
       "</table>\n",
       "</div>"
      ],
      "text/plain": [
       "               Water_Level_OD_Malin                                          \\\n",
       "                              count      mean       std       min       25%   \n",
       "Cluster Labels                                                                \n",
       "0                              11.0 -0.064639  0.089624 -0.207924 -0.099573   \n",
       "1                               1.0 -2.365941       NaN -2.365941 -2.365941   \n",
       "2                               2.0 -0.038346  0.074128 -0.090763 -0.064554   \n",
       "3                               1.0  0.470708       NaN  0.470708  0.470708   \n",
       "\n",
       "                                             QC_Flag                      \\\n",
       "                     50%       75%       max   count      mean       std   \n",
       "Cluster Labels                                                             \n",
       "0              -0.079847  0.026600  0.039173    11.0  0.921892  0.021114   \n",
       "1              -2.365941 -2.365941 -2.365941     1.0  0.831120       NaN   \n",
       "2              -0.038346 -0.012138  0.014070     2.0  0.000000  0.000000   \n",
       "3               0.470708  0.470708  0.470708     1.0  0.000000       NaN   \n",
       "\n",
       "                                                                  \n",
       "                     min       25%       50%       75%       max  \n",
       "Cluster Labels                                                    \n",
       "0               0.871555  0.919344  0.931706  0.935308  0.935892  \n",
       "1               0.831120  0.831120  0.831120  0.831120  0.831120  \n",
       "2               0.000000  0.000000  0.000000  0.000000  0.000000  \n",
       "3               0.000000  0.000000  0.000000  0.000000  0.000000  "
      ]
     },
     "execution_count": 62,
     "metadata": {},
     "output_type": "execute_result"
    }
   ],
   "source": [
    "df_tides_grouped_per_station.groupby('Cluster Labels')[['Water_Level_OD_Malin', 'QC_Flag']].describe()"
   ]
  },
  {
   "cell_type": "markdown",
   "metadata": {},
   "source": [
    "Analyzing the statistics:\n",
    "- Cluster nº 0 have the majority of the stations in it, this means that the stations were too similar or we don't have enough data about it to differentiate them\n",
    "- We see that the cluster nº 3 have the highest water level mean between them, and the cluster nº 1 have the lowest."
   ]
  },
  {
   "cell_type": "code",
   "execution_count": 63,
   "metadata": {},
   "outputs": [
    {
     "data": {
      "text/html": [
       "<div style=\"width:100%;\"><div style=\"position:relative;width:100%;height:0;padding-bottom:60%;\"><span style=\"color:#565656\">Make this Notebook Trusted to load map: File -> Trust Notebook</span><iframe src=\"about:blank\" style=\"position:absolute;width:100%;height:100%;left:0;top:0;border:none !important;\" data-html=%3C%21DOCTYPE%20html%3E%0A%3Chead%3E%20%20%20%20%0A%20%20%20%20%3Cmeta%20http-equiv%3D%22content-type%22%20content%3D%22text/html%3B%20charset%3DUTF-8%22%20/%3E%0A%20%20%20%20%0A%20%20%20%20%20%20%20%20%3Cscript%3E%0A%20%20%20%20%20%20%20%20%20%20%20%20L_NO_TOUCH%20%3D%20false%3B%0A%20%20%20%20%20%20%20%20%20%20%20%20L_DISABLE_3D%20%3D%20false%3B%0A%20%20%20%20%20%20%20%20%3C/script%3E%0A%20%20%20%20%0A%20%20%20%20%3Cstyle%3Ehtml%2C%20body%20%7Bwidth%3A%20100%25%3Bheight%3A%20100%25%3Bmargin%3A%200%3Bpadding%3A%200%3B%7D%3C/style%3E%0A%20%20%20%20%3Cstyle%3E%23map%20%7Bposition%3Aabsolute%3Btop%3A0%3Bbottom%3A0%3Bright%3A0%3Bleft%3A0%3B%7D%3C/style%3E%0A%20%20%20%20%3Cscript%20src%3D%22https%3A//cdn.jsdelivr.net/npm/leaflet%401.6.0/dist/leaflet.js%22%3E%3C/script%3E%0A%20%20%20%20%3Cscript%20src%3D%22https%3A//code.jquery.com/jquery-1.12.4.min.js%22%3E%3C/script%3E%0A%20%20%20%20%3Cscript%20src%3D%22https%3A//maxcdn.bootstrapcdn.com/bootstrap/3.2.0/js/bootstrap.min.js%22%3E%3C/script%3E%0A%20%20%20%20%3Cscript%20src%3D%22https%3A//cdnjs.cloudflare.com/ajax/libs/Leaflet.awesome-markers/2.0.2/leaflet.awesome-markers.js%22%3E%3C/script%3E%0A%20%20%20%20%3Clink%20rel%3D%22stylesheet%22%20href%3D%22https%3A//cdn.jsdelivr.net/npm/leaflet%401.6.0/dist/leaflet.css%22/%3E%0A%20%20%20%20%3Clink%20rel%3D%22stylesheet%22%20href%3D%22https%3A//maxcdn.bootstrapcdn.com/bootstrap/3.2.0/css/bootstrap.min.css%22/%3E%0A%20%20%20%20%3Clink%20rel%3D%22stylesheet%22%20href%3D%22https%3A//maxcdn.bootstrapcdn.com/bootstrap/3.2.0/css/bootstrap-theme.min.css%22/%3E%0A%20%20%20%20%3Clink%20rel%3D%22stylesheet%22%20href%3D%22https%3A//maxcdn.bootstrapcdn.com/font-awesome/4.6.3/css/font-awesome.min.css%22/%3E%0A%20%20%20%20%3Clink%20rel%3D%22stylesheet%22%20href%3D%22https%3A//cdnjs.cloudflare.com/ajax/libs/Leaflet.awesome-markers/2.0.2/leaflet.awesome-markers.css%22/%3E%0A%20%20%20%20%3Clink%20rel%3D%22stylesheet%22%20href%3D%22https%3A//cdn.jsdelivr.net/gh/python-visualization/folium/folium/templates/leaflet.awesome.rotate.min.css%22/%3E%0A%20%20%20%20%0A%20%20%20%20%20%20%20%20%20%20%20%20%3Cmeta%20name%3D%22viewport%22%20content%3D%22width%3Ddevice-width%2C%0A%20%20%20%20%20%20%20%20%20%20%20%20%20%20%20%20initial-scale%3D1.0%2C%20maximum-scale%3D1.0%2C%20user-scalable%3Dno%22%20/%3E%0A%20%20%20%20%20%20%20%20%20%20%20%20%3Cstyle%3E%0A%20%20%20%20%20%20%20%20%20%20%20%20%20%20%20%20%23map_29805e8d1e7a4b2f9546d6ba14229907%20%7B%0A%20%20%20%20%20%20%20%20%20%20%20%20%20%20%20%20%20%20%20%20position%3A%20relative%3B%0A%20%20%20%20%20%20%20%20%20%20%20%20%20%20%20%20%20%20%20%20width%3A%20100.0%25%3B%0A%20%20%20%20%20%20%20%20%20%20%20%20%20%20%20%20%20%20%20%20height%3A%20100.0%25%3B%0A%20%20%20%20%20%20%20%20%20%20%20%20%20%20%20%20%20%20%20%20left%3A%200.0%25%3B%0A%20%20%20%20%20%20%20%20%20%20%20%20%20%20%20%20%20%20%20%20top%3A%200.0%25%3B%0A%20%20%20%20%20%20%20%20%20%20%20%20%20%20%20%20%7D%0A%20%20%20%20%20%20%20%20%20%20%20%20%3C/style%3E%0A%20%20%20%20%20%20%20%20%0A%3C/head%3E%0A%3Cbody%3E%20%20%20%20%0A%20%20%20%20%0A%20%20%20%20%20%20%20%20%20%20%20%20%3Cdiv%20class%3D%22folium-map%22%20id%3D%22map_29805e8d1e7a4b2f9546d6ba14229907%22%20%3E%3C/div%3E%0A%20%20%20%20%20%20%20%20%0A%3C/body%3E%0A%3Cscript%3E%20%20%20%20%0A%20%20%20%20%0A%20%20%20%20%20%20%20%20%20%20%20%20var%20map_29805e8d1e7a4b2f9546d6ba14229907%20%3D%20L.map%28%0A%20%20%20%20%20%20%20%20%20%20%20%20%20%20%20%20%22map_29805e8d1e7a4b2f9546d6ba14229907%22%2C%0A%20%20%20%20%20%20%20%20%20%20%20%20%20%20%20%20%7B%0A%20%20%20%20%20%20%20%20%20%20%20%20%20%20%20%20%20%20%20%20center%3A%20%5B53.269%2C%20-9.048%5D%2C%0A%20%20%20%20%20%20%20%20%20%20%20%20%20%20%20%20%20%20%20%20crs%3A%20L.CRS.EPSG3857%2C%0A%20%20%20%20%20%20%20%20%20%20%20%20%20%20%20%20%20%20%20%20zoom%3A%207%2C%0A%20%20%20%20%20%20%20%20%20%20%20%20%20%20%20%20%20%20%20%20zoomControl%3A%20true%2C%0A%20%20%20%20%20%20%20%20%20%20%20%20%20%20%20%20%20%20%20%20preferCanvas%3A%20false%2C%0A%20%20%20%20%20%20%20%20%20%20%20%20%20%20%20%20%7D%0A%20%20%20%20%20%20%20%20%20%20%20%20%29%3B%0A%0A%20%20%20%20%20%20%20%20%20%20%20%20%0A%0A%20%20%20%20%20%20%20%20%0A%20%20%20%20%0A%20%20%20%20%20%20%20%20%20%20%20%20var%20tile_layer_09b158e921e447089070b6aa3b5895dd%20%3D%20L.tileLayer%28%0A%20%20%20%20%20%20%20%20%20%20%20%20%20%20%20%20%22https%3A//%7Bs%7D.tile.openstreetmap.org/%7Bz%7D/%7Bx%7D/%7By%7D.png%22%2C%0A%20%20%20%20%20%20%20%20%20%20%20%20%20%20%20%20%7B%22attribution%22%3A%20%22Data%20by%20%5Cu0026copy%3B%20%5Cu003ca%20href%3D%5C%22http%3A//openstreetmap.org%5C%22%5Cu003eOpenStreetMap%5Cu003c/a%5Cu003e%2C%20under%20%5Cu003ca%20href%3D%5C%22http%3A//www.openstreetmap.org/copyright%5C%22%5Cu003eODbL%5Cu003c/a%5Cu003e.%22%2C%20%22detectRetina%22%3A%20false%2C%20%22maxNativeZoom%22%3A%2018%2C%20%22maxZoom%22%3A%2018%2C%20%22minZoom%22%3A%200%2C%20%22noWrap%22%3A%20false%2C%20%22opacity%22%3A%201%2C%20%22subdomains%22%3A%20%22abc%22%2C%20%22tms%22%3A%20false%7D%0A%20%20%20%20%20%20%20%20%20%20%20%20%29.addTo%28map_29805e8d1e7a4b2f9546d6ba14229907%29%3B%0A%20%20%20%20%20%20%20%20%0A%20%20%20%20%0A%20%20%20%20%20%20%20%20%20%20%20%20var%20circle_marker_ce0b59e3a027413e87c60c6d06686f13%20%3D%20L.circleMarker%28%0A%20%20%20%20%20%20%20%20%20%20%20%20%20%20%20%20%5B54.9905%2C%20-8.4955%5D%2C%0A%20%20%20%20%20%20%20%20%20%20%20%20%20%20%20%20%7B%22bubblingMouseEvents%22%3A%20true%2C%20%22color%22%3A%20%22red%22%2C%20%22dashArray%22%3A%20null%2C%20%22dashOffset%22%3A%20null%2C%20%22fill%22%3A%20true%2C%20%22fillColor%22%3A%20%22red%22%2C%20%22fillOpacity%22%3A%200.6%2C%20%22fillRule%22%3A%20%22evenodd%22%2C%20%22lineCap%22%3A%20%22round%22%2C%20%22lineJoin%22%3A%20%22round%22%2C%20%22opacity%22%3A%201.0%2C%20%22radius%22%3A%2010%2C%20%22stroke%22%3A%20true%2C%20%22weight%22%3A%203%7D%0A%20%20%20%20%20%20%20%20%20%20%20%20%29.addTo%28map_29805e8d1e7a4b2f9546d6ba14229907%29%3B%0A%20%20%20%20%20%20%20%20%0A%20%20%20%20%0A%20%20%20%20%20%20%20%20var%20popup_21831fe608c643b39e81c7c590289adc%20%3D%20L.popup%28%7B%22maxWidth%22%3A%20%22100%25%22%7D%29%3B%0A%0A%20%20%20%20%20%20%20%20%0A%20%20%20%20%20%20%20%20%20%20%20%20var%20html_9777e3f2326f4ca19e51095a91068365%20%3D%20%24%28%60%3Cdiv%20id%3D%22html_9777e3f2326f4ca19e51095a91068365%22%20style%3D%22width%3A%20100.0%25%3B%20height%3A%20100.0%25%3B%22%3EAranmore%20Island%20-%20Leabgarrow%2C%200.03424514141581211%2C%200%3C/div%3E%60%29%5B0%5D%3B%0A%20%20%20%20%20%20%20%20%20%20%20%20popup_21831fe608c643b39e81c7c590289adc.setContent%28html_9777e3f2326f4ca19e51095a91068365%29%3B%0A%20%20%20%20%20%20%20%20%0A%0A%20%20%20%20%20%20%20%20circle_marker_ce0b59e3a027413e87c60c6d06686f13.bindPopup%28popup_21831fe608c643b39e81c7c590289adc%29%0A%20%20%20%20%20%20%20%20%3B%0A%0A%20%20%20%20%20%20%20%20%0A%20%20%20%20%0A%20%20%20%20%0A%20%20%20%20%20%20%20%20%20%20%20%20var%20circle_marker_0d6e6be53ea74208be1f4e46c31de1e5%20%3D%20L.circleMarker%28%0A%20%20%20%20%20%20%20%20%20%20%20%20%20%20%20%20%5B51.8278%2C%20-8.0007%5D%2C%0A%20%20%20%20%20%20%20%20%20%20%20%20%20%20%20%20%7B%22bubblingMouseEvents%22%3A%20true%2C%20%22color%22%3A%20%22red%22%2C%20%22dashArray%22%3A%20null%2C%20%22dashOffset%22%3A%20null%2C%20%22fill%22%3A%20true%2C%20%22fillColor%22%3A%20%22red%22%2C%20%22fillOpacity%22%3A%200.6%2C%20%22fillRule%22%3A%20%22evenodd%22%2C%20%22lineCap%22%3A%20%22round%22%2C%20%22lineJoin%22%3A%20%22round%22%2C%20%22opacity%22%3A%201.0%2C%20%22radius%22%3A%2010%2C%20%22stroke%22%3A%20true%2C%20%22weight%22%3A%203%7D%0A%20%20%20%20%20%20%20%20%20%20%20%20%29.addTo%28map_29805e8d1e7a4b2f9546d6ba14229907%29%3B%0A%20%20%20%20%20%20%20%20%0A%20%20%20%20%0A%20%20%20%20%20%20%20%20var%20popup_4bbad9aec13a4da48f49e3246d1d7a62%20%3D%20L.popup%28%7B%22maxWidth%22%3A%20%22100%25%22%7D%29%3B%0A%0A%20%20%20%20%20%20%20%20%0A%20%20%20%20%20%20%20%20%20%20%20%20var%20html_53694f29f9d84b44b1de084680c41699%20%3D%20%24%28%60%3Cdiv%20id%3D%22html_53694f29f9d84b44b1de084680c41699%22%20style%3D%22width%3A%20100.0%25%3B%20height%3A%20100.0%25%3B%22%3EBallycotton%20Harbour%2C%20-0.10456900560277471%2C%200%3C/div%3E%60%29%5B0%5D%3B%0A%20%20%20%20%20%20%20%20%20%20%20%20popup_4bbad9aec13a4da48f49e3246d1d7a62.setContent%28html_53694f29f9d84b44b1de084680c41699%29%3B%0A%20%20%20%20%20%20%20%20%0A%0A%20%20%20%20%20%20%20%20circle_marker_0d6e6be53ea74208be1f4e46c31de1e5.bindPopup%28popup_4bbad9aec13a4da48f49e3246d1d7a62%29%0A%20%20%20%20%20%20%20%20%3B%0A%0A%20%20%20%20%20%20%20%20%0A%20%20%20%20%0A%20%20%20%20%0A%20%20%20%20%20%20%20%20%20%20%20%20var%20circle_marker_8bc8de9cd6094f428447c1d2302fa76c%20%3D%20L.circleMarker%28%0A%20%20%20%20%20%20%20%20%20%20%20%20%20%20%20%20%5B54.2536%2C%20-9.8928%5D%2C%0A%20%20%20%20%20%20%20%20%20%20%20%20%20%20%20%20%7B%22bubblingMouseEvents%22%3A%20true%2C%20%22color%22%3A%20%22red%22%2C%20%22dashArray%22%3A%20null%2C%20%22dashOffset%22%3A%20null%2C%20%22fill%22%3A%20true%2C%20%22fillColor%22%3A%20%22red%22%2C%20%22fillOpacity%22%3A%200.6%2C%20%22fillRule%22%3A%20%22evenodd%22%2C%20%22lineCap%22%3A%20%22round%22%2C%20%22lineJoin%22%3A%20%22round%22%2C%20%22opacity%22%3A%201.0%2C%20%22radius%22%3A%2010%2C%20%22stroke%22%3A%20true%2C%20%22weight%22%3A%203%7D%0A%20%20%20%20%20%20%20%20%20%20%20%20%29.addTo%28map_29805e8d1e7a4b2f9546d6ba14229907%29%3B%0A%20%20%20%20%20%20%20%20%0A%20%20%20%20%0A%20%20%20%20%20%20%20%20var%20popup_ac21350f75524a1db16d10996d6acacf%20%3D%20L.popup%28%7B%22maxWidth%22%3A%20%22100%25%22%7D%29%3B%0A%0A%20%20%20%20%20%20%20%20%0A%20%20%20%20%20%20%20%20%20%20%20%20var%20html_149c597b2f7f4ef3987b5229a3ef5b2a%20%3D%20%24%28%60%3Cdiv%20id%3D%22html_149c597b2f7f4ef3987b5229a3ef5b2a%22%20style%3D%22width%3A%20100.0%25%3B%20height%3A%20100.0%25%3B%22%3EBallyglass%20Harbour%2C%20-0.07984717951665278%2C%200%3C/div%3E%60%29%5B0%5D%3B%0A%20%20%20%20%20%20%20%20%20%20%20%20popup_ac21350f75524a1db16d10996d6acacf.setContent%28html_149c597b2f7f4ef3987b5229a3ef5b2a%29%3B%0A%20%20%20%20%20%20%20%20%0A%0A%20%20%20%20%20%20%20%20circle_marker_8bc8de9cd6094f428447c1d2302fa76c.bindPopup%28popup_ac21350f75524a1db16d10996d6acacf%29%0A%20%20%20%20%20%20%20%20%3B%0A%0A%20%20%20%20%20%20%20%20%0A%20%20%20%20%0A%20%20%20%20%0A%20%20%20%20%20%20%20%20%20%20%20%20var%20circle_marker_18c3ea87fe8e4e849fa89e15606675e3%20%3D%20L.circleMarker%28%0A%20%20%20%20%20%20%20%20%20%20%20%20%20%20%20%20%5B51.6496%2C%20-9.9034%5D%2C%0A%20%20%20%20%20%20%20%20%20%20%20%20%20%20%20%20%7B%22bubblingMouseEvents%22%3A%20true%2C%20%22color%22%3A%20%22red%22%2C%20%22dashArray%22%3A%20null%2C%20%22dashOffset%22%3A%20null%2C%20%22fill%22%3A%20true%2C%20%22fillColor%22%3A%20%22red%22%2C%20%22fillOpacity%22%3A%200.6%2C%20%22fillRule%22%3A%20%22evenodd%22%2C%20%22lineCap%22%3A%20%22round%22%2C%20%22lineJoin%22%3A%20%22round%22%2C%20%22opacity%22%3A%201.0%2C%20%22radius%22%3A%2010%2C%20%22stroke%22%3A%20true%2C%20%22weight%22%3A%203%7D%0A%20%20%20%20%20%20%20%20%20%20%20%20%29.addTo%28map_29805e8d1e7a4b2f9546d6ba14229907%29%3B%0A%20%20%20%20%20%20%20%20%0A%20%20%20%20%0A%20%20%20%20%20%20%20%20var%20popup_e86185f47f584ab2859e8587262d7ca2%20%3D%20L.popup%28%7B%22maxWidth%22%3A%20%22100%25%22%7D%29%3B%0A%0A%20%20%20%20%20%20%20%20%0A%20%20%20%20%20%20%20%20%20%20%20%20var%20html_d6aa4d5e8ab64dcebc2c899f312923a2%20%3D%20%24%28%60%3Cdiv%20id%3D%22html_d6aa4d5e8ab64dcebc2c899f312923a2%22%20style%3D%22width%3A%20100.0%25%3B%20height%3A%20100.0%25%3B%22%3ECastletownbere%20Port%2C%20-0.2079237632933507%2C%200%3C/div%3E%60%29%5B0%5D%3B%0A%20%20%20%20%20%20%20%20%20%20%20%20popup_e86185f47f584ab2859e8587262d7ca2.setContent%28html_d6aa4d5e8ab64dcebc2c899f312923a2%29%3B%0A%20%20%20%20%20%20%20%20%0A%0A%20%20%20%20%20%20%20%20circle_marker_18c3ea87fe8e4e849fa89e15606675e3.bindPopup%28popup_e86185f47f584ab2859e8587262d7ca2%29%0A%20%20%20%20%20%20%20%20%3B%0A%0A%20%20%20%20%20%20%20%20%0A%20%20%20%20%0A%20%20%20%20%0A%20%20%20%20%20%20%20%20%20%20%20%20var%20circle_marker_2d7d0f0eadd445f1aa9f756633d7ee23%20%3D%20L.circleMarker%28%0A%20%20%20%20%20%20%20%20%20%20%20%20%20%20%20%20%5B52.13924000000001%2C%20-10.27732%5D%2C%0A%20%20%20%20%20%20%20%20%20%20%20%20%20%20%20%20%7B%22bubblingMouseEvents%22%3A%20true%2C%20%22color%22%3A%20%22red%22%2C%20%22dashArray%22%3A%20null%2C%20%22dashOffset%22%3A%20null%2C%20%22fill%22%3A%20true%2C%20%22fillColor%22%3A%20%22red%22%2C%20%22fillOpacity%22%3A%200.6%2C%20%22fillRule%22%3A%20%22evenodd%22%2C%20%22lineCap%22%3A%20%22round%22%2C%20%22lineJoin%22%3A%20%22round%22%2C%20%22opacity%22%3A%201.0%2C%20%22radius%22%3A%2010%2C%20%22stroke%22%3A%20true%2C%20%22weight%22%3A%203%7D%0A%20%20%20%20%20%20%20%20%20%20%20%20%29.addTo%28map_29805e8d1e7a4b2f9546d6ba14229907%29%3B%0A%20%20%20%20%20%20%20%20%0A%20%20%20%20%0A%20%20%20%20%20%20%20%20var%20popup_21b5eb264f984586bf4b1569075cbf47%20%3D%20L.popup%28%7B%22maxWidth%22%3A%20%22100%25%22%7D%29%3B%0A%0A%20%20%20%20%20%20%20%20%0A%20%20%20%20%20%20%20%20%20%20%20%20var%20html_3fe264b506654d8aa8bfa23bafd903f4%20%3D%20%24%28%60%3Cdiv%20id%3D%22html_3fe264b506654d8aa8bfa23bafd903f4%22%20style%3D%22width%3A%20100.0%25%3B%20height%3A%20100.0%25%3B%22%3EDingle%20Harbour%2C%20-0.06590632105502502%2C%200%3C/div%3E%60%29%5B0%5D%3B%0A%20%20%20%20%20%20%20%20%20%20%20%20popup_21b5eb264f984586bf4b1569075cbf47.setContent%28html_3fe264b506654d8aa8bfa23bafd903f4%29%3B%0A%20%20%20%20%20%20%20%20%0A%0A%20%20%20%20%20%20%20%20circle_marker_2d7d0f0eadd445f1aa9f756633d7ee23.bindPopup%28popup_21b5eb264f984586bf4b1569075cbf47%29%0A%20%20%20%20%20%20%20%20%3B%0A%0A%20%20%20%20%20%20%20%20%0A%20%20%20%20%0A%20%20%20%20%0A%20%20%20%20%20%20%20%20%20%20%20%20var%20circle_marker_61046bc83d3a441fb2565e80ec4e835a%20%3D%20L.circleMarker%28%0A%20%20%20%20%20%20%20%20%20%20%20%20%20%20%20%20%5B53.3457%2C%20-6.2217%5D%2C%0A%20%20%20%20%20%20%20%20%20%20%20%20%20%20%20%20%7B%22bubblingMouseEvents%22%3A%20true%2C%20%22color%22%3A%20%22yellow%22%2C%20%22dashArray%22%3A%20null%2C%20%22dashOffset%22%3A%20null%2C%20%22fill%22%3A%20true%2C%20%22fillColor%22%3A%20%22yellow%22%2C%20%22fillOpacity%22%3A%200.6%2C%20%22fillRule%22%3A%20%22evenodd%22%2C%20%22lineCap%22%3A%20%22round%22%2C%20%22lineJoin%22%3A%20%22round%22%2C%20%22opacity%22%3A%201.0%2C%20%22radius%22%3A%2010%2C%20%22stroke%22%3A%20true%2C%20%22weight%22%3A%203%7D%0A%20%20%20%20%20%20%20%20%20%20%20%20%29.addTo%28map_29805e8d1e7a4b2f9546d6ba14229907%29%3B%0A%20%20%20%20%20%20%20%20%0A%20%20%20%20%0A%20%20%20%20%20%20%20%20var%20popup_66765b5e5a944543995842713dee07aa%20%3D%20L.popup%28%7B%22maxWidth%22%3A%20%22100%25%22%7D%29%3B%0A%0A%20%20%20%20%20%20%20%20%0A%20%20%20%20%20%20%20%20%20%20%20%20var%20html_3aaf54cb49b94acbb2104b11065792fa%20%3D%20%24%28%60%3Cdiv%20id%3D%22html_3aaf54cb49b94acbb2104b11065792fa%22%20style%3D%22width%3A%20100.0%25%3B%20height%3A%20100.0%25%3B%22%3EDublin%20Port%2C%200.014070091990981649%2C%202%3C/div%3E%60%29%5B0%5D%3B%0A%20%20%20%20%20%20%20%20%20%20%20%20popup_66765b5e5a944543995842713dee07aa.setContent%28html_3aaf54cb49b94acbb2104b11065792fa%29%3B%0A%20%20%20%20%20%20%20%20%0A%0A%20%20%20%20%20%20%20%20circle_marker_61046bc83d3a441fb2565e80ec4e835a.bindPopup%28popup_66765b5e5a944543995842713dee07aa%29%0A%20%20%20%20%20%20%20%20%3B%0A%0A%20%20%20%20%20%20%20%20%0A%20%20%20%20%0A%20%20%20%20%0A%20%20%20%20%20%20%20%20%20%20%20%20var%20circle_marker_cd78005bdc784b069341edec82653391%20%3D%20L.circleMarker%28%0A%20%20%20%20%20%20%20%20%20%20%20%20%20%20%20%20%5B53.269000000000005%2C%20-9.048%5D%2C%0A%20%20%20%20%20%20%20%20%20%20%20%20%20%20%20%20%7B%22bubblingMouseEvents%22%3A%20true%2C%20%22color%22%3A%20%22red%22%2C%20%22dashArray%22%3A%20null%2C%20%22dashOffset%22%3A%20null%2C%20%22fill%22%3A%20true%2C%20%22fillColor%22%3A%20%22red%22%2C%20%22fillOpacity%22%3A%200.6%2C%20%22fillRule%22%3A%20%22evenodd%22%2C%20%22lineCap%22%3A%20%22round%22%2C%20%22lineJoin%22%3A%20%22round%22%2C%20%22opacity%22%3A%201.0%2C%20%22radius%22%3A%2010%2C%20%22stroke%22%3A%20true%2C%20%22weight%22%3A%203%7D%0A%20%20%20%20%20%20%20%20%20%20%20%20%29.addTo%28map_29805e8d1e7a4b2f9546d6ba14229907%29%3B%0A%20%20%20%20%20%20%20%20%0A%20%20%20%20%0A%20%20%20%20%20%20%20%20var%20popup_f001894b459644698c4d96d347134e64%20%3D%20L.popup%28%7B%22maxWidth%22%3A%20%22100%25%22%7D%29%3B%0A%0A%20%20%20%20%20%20%20%20%0A%20%20%20%20%20%20%20%20%20%20%20%20var%20html_527524e4566a473388f2803ae05d3824%20%3D%20%24%28%60%3Cdiv%20id%3D%22html_527524e4566a473388f2803ae05d3824%22%20style%3D%22width%3A%20100.0%25%3B%20height%3A%20100.0%25%3B%22%3EGalway%20Port%2C%200.032360626730214906%2C%200%3C/div%3E%60%29%5B0%5D%3B%0A%20%20%20%20%20%20%20%20%20%20%20%20popup_f001894b459644698c4d96d347134e64.setContent%28html_527524e4566a473388f2803ae05d3824%29%3B%0A%20%20%20%20%20%20%20%20%0A%0A%20%20%20%20%20%20%20%20circle_marker_cd78005bdc784b069341edec82653391.bindPopup%28popup_f001894b459644698c4d96d347134e64%29%0A%20%20%20%20%20%20%20%20%3B%0A%0A%20%20%20%20%20%20%20%20%0A%20%20%20%20%0A%20%20%20%20%0A%20%20%20%20%20%20%20%20%20%20%20%20var%20circle_marker_12c4ee3ab01040409b1f6a3a73f36d5b%20%3D%20L.circleMarker%28%0A%20%20%20%20%20%20%20%20%20%20%20%20%20%20%20%20%5B53.39133499999999%2C%20-6.068090000000001%5D%2C%0A%20%20%20%20%20%20%20%20%20%20%20%20%20%20%20%20%7B%22bubblingMouseEvents%22%3A%20true%2C%20%22color%22%3A%20%22red%22%2C%20%22dashArray%22%3A%20null%2C%20%22dashOffset%22%3A%20null%2C%20%22fill%22%3A%20true%2C%20%22fillColor%22%3A%20%22red%22%2C%20%22fillOpacity%22%3A%200.6%2C%20%22fillRule%22%3A%20%22evenodd%22%2C%20%22lineCap%22%3A%20%22round%22%2C%20%22lineJoin%22%3A%20%22round%22%2C%20%22opacity%22%3A%201.0%2C%20%22radius%22%3A%2010%2C%20%22stroke%22%3A%20true%2C%20%22weight%22%3A%203%7D%0A%20%20%20%20%20%20%20%20%20%20%20%20%29.addTo%28map_29805e8d1e7a4b2f9546d6ba14229907%29%3B%0A%20%20%20%20%20%20%20%20%0A%20%20%20%20%0A%20%20%20%20%20%20%20%20var%20popup_eae5270a7de74b18860fab5b8c1a97d5%20%3D%20L.popup%28%7B%22maxWidth%22%3A%20%22100%25%22%7D%29%3B%0A%0A%20%20%20%20%20%20%20%20%0A%20%20%20%20%20%20%20%20%20%20%20%20var%20html_73238b680ec24c5f8e00fba9e1784a27%20%3D%20%24%28%60%3Cdiv%20id%3D%22html_73238b680ec24c5f8e00fba9e1784a27%22%20style%3D%22width%3A%20100.0%25%3B%20height%3A%20100.0%25%3B%22%3EHowth%20Water%20Level%201%2C%20-0.08035553132765615%2C%200%3C/div%3E%60%29%5B0%5D%3B%0A%20%20%20%20%20%20%20%20%20%20%20%20popup_eae5270a7de74b18860fab5b8c1a97d5.setContent%28html_73238b680ec24c5f8e00fba9e1784a27%29%3B%0A%20%20%20%20%20%20%20%20%0A%0A%20%20%20%20%20%20%20%20circle_marker_12c4ee3ab01040409b1f6a3a73f36d5b.bindPopup%28popup_eae5270a7de74b18860fab5b8c1a97d5%29%0A%20%20%20%20%20%20%20%20%3B%0A%0A%20%20%20%20%20%20%20%20%0A%20%20%20%20%0A%20%20%20%20%0A%20%20%20%20%20%20%20%20%20%20%20%20var%20circle_marker_13fcd4241c8f49128d929f6c9e841c48%20%3D%20L.circleMarker%28%0A%20%20%20%20%20%20%20%20%20%20%20%20%20%20%20%20%5B54.6364%2C%20-8.3949%5D%2C%0A%20%20%20%20%20%20%20%20%20%20%20%20%20%20%20%20%7B%22bubblingMouseEvents%22%3A%20true%2C%20%22color%22%3A%20%22red%22%2C%20%22dashArray%22%3A%20null%2C%20%22dashOffset%22%3A%20null%2C%20%22fill%22%3A%20true%2C%20%22fillColor%22%3A%20%22red%22%2C%20%22fillOpacity%22%3A%200.6%2C%20%22fillRule%22%3A%20%22evenodd%22%2C%20%22lineCap%22%3A%20%22round%22%2C%20%22lineJoin%22%3A%20%22round%22%2C%20%22opacity%22%3A%201.0%2C%20%22radius%22%3A%2010%2C%20%22stroke%22%3A%20true%2C%20%22weight%22%3A%203%7D%0A%20%20%20%20%20%20%20%20%20%20%20%20%29.addTo%28map_29805e8d1e7a4b2f9546d6ba14229907%29%3B%0A%20%20%20%20%20%20%20%20%0A%20%20%20%20%0A%20%20%20%20%20%20%20%20var%20popup_09602944c1ae42ab82cf56f72f56ca04%20%3D%20L.popup%28%7B%22maxWidth%22%3A%20%22100%25%22%7D%29%3B%0A%0A%20%20%20%20%20%20%20%20%0A%20%20%20%20%20%20%20%20%20%20%20%20var%20html_5e57e5cca41f442e8992843bf7a91e76%20%3D%20%24%28%60%3Cdiv%20id%3D%22html_5e57e5cca41f442e8992843bf7a91e76%22%20style%3D%22width%3A%20100.0%25%3B%20height%3A%20100.0%25%3B%22%3EKillybegs%20Port%2C%200.039172563836918764%2C%200%3C/div%3E%60%29%5B0%5D%3B%0A%20%20%20%20%20%20%20%20%20%20%20%20popup_09602944c1ae42ab82cf56f72f56ca04.setContent%28html_5e57e5cca41f442e8992843bf7a91e76%29%3B%0A%20%20%20%20%20%20%20%20%0A%0A%20%20%20%20%20%20%20%20circle_marker_13fcd4241c8f49128d929f6c9e841c48.bindPopup%28popup_09602944c1ae42ab82cf56f72f56ca04%29%0A%20%20%20%20%20%20%20%20%3B%0A%0A%20%20%20%20%20%20%20%20%0A%20%20%20%20%0A%20%20%20%20%0A%20%20%20%20%20%20%20%20%20%20%20%20var%20circle_marker_c885b1dbe1fe43cdaa841b78dcbabda5%20%3D%20L.circleMarker%28%0A%20%20%20%20%20%20%20%20%20%20%20%20%20%20%20%20%5B53.14052%2C%20-8.93758%5D%2C%0A%20%20%20%20%20%20%20%20%20%20%20%20%20%20%20%20%7B%22bubblingMouseEvents%22%3A%20true%2C%20%22color%22%3A%20%22green%22%2C%20%22dashArray%22%3A%20null%2C%20%22dashOffset%22%3A%20null%2C%20%22fill%22%3A%20true%2C%20%22fillColor%22%3A%20%22green%22%2C%20%22fillOpacity%22%3A%200.6%2C%20%22fillRule%22%3A%20%22evenodd%22%2C%20%22lineCap%22%3A%20%22round%22%2C%20%22lineJoin%22%3A%20%22round%22%2C%20%22opacity%22%3A%201.0%2C%20%22radius%22%3A%2010%2C%20%22stroke%22%3A%20true%2C%20%22weight%22%3A%203%7D%0A%20%20%20%20%20%20%20%20%20%20%20%20%29.addTo%28map_29805e8d1e7a4b2f9546d6ba14229907%29%3B%0A%20%20%20%20%20%20%20%20%0A%20%20%20%20%0A%20%20%20%20%20%20%20%20var%20popup_3859920d1c194b72ad44151c36b9fb3f%20%3D%20L.popup%28%7B%22maxWidth%22%3A%20%22100%25%22%7D%29%3B%0A%0A%20%20%20%20%20%20%20%20%0A%20%20%20%20%20%20%20%20%20%20%20%20var%20html_761d632c6e174c63a3d00a4743a1befb%20%3D%20%24%28%60%3Cdiv%20id%3D%22html_761d632c6e174c63a3d00a4743a1befb%22%20style%3D%22width%3A%20100.0%25%3B%20height%3A%20100.0%25%3B%22%3EKinvara%20-%20Unreferenced%2C%20-2.3659405890404015%2C%201%3C/div%3E%60%29%5B0%5D%3B%0A%20%20%20%20%20%20%20%20%20%20%20%20popup_3859920d1c194b72ad44151c36b9fb3f.setContent%28html_761d632c6e174c63a3d00a4743a1befb%29%3B%0A%20%20%20%20%20%20%20%20%0A%0A%20%20%20%20%20%20%20%20circle_marker_c885b1dbe1fe43cdaa841b78dcbabda5.bindPopup%28popup_3859920d1c194b72ad44151c36b9fb3f%29%0A%20%20%20%20%20%20%20%20%3B%0A%0A%20%20%20%20%20%20%20%20%0A%20%20%20%20%0A%20%20%20%20%0A%20%20%20%20%20%20%20%20%20%20%20%20var%20circle_marker_28f2f364170c45449f457dfc250a7123%20%3D%20L.circleMarker%28%0A%20%20%20%20%20%20%20%20%20%20%20%20%20%20%20%20%5B53.76235%2C%20-9.90442%5D%2C%0A%20%20%20%20%20%20%20%20%20%20%20%20%20%20%20%20%7B%22bubblingMouseEvents%22%3A%20true%2C%20%22color%22%3A%20%22grey%22%2C%20%22dashArray%22%3A%20null%2C%20%22dashOffset%22%3A%20null%2C%20%22fill%22%3A%20true%2C%20%22fillColor%22%3A%20%22grey%22%2C%20%22fillOpacity%22%3A%200.6%2C%20%22fillRule%22%3A%20%22evenodd%22%2C%20%22lineCap%22%3A%20%22round%22%2C%20%22lineJoin%22%3A%20%22round%22%2C%20%22opacity%22%3A%201.0%2C%20%22radius%22%3A%2010%2C%20%22stroke%22%3A%20true%2C%20%22weight%22%3A%203%7D%0A%20%20%20%20%20%20%20%20%20%20%20%20%29.addTo%28map_29805e8d1e7a4b2f9546d6ba14229907%29%3B%0A%20%20%20%20%20%20%20%20%0A%20%20%20%20%0A%20%20%20%20%20%20%20%20var%20popup_779d028b56cb454e9e056d3ed627bb29%20%3D%20L.popup%28%7B%22maxWidth%22%3A%20%22100%25%22%7D%29%3B%0A%0A%20%20%20%20%20%20%20%20%0A%20%20%20%20%20%20%20%20%20%20%20%20var%20html_ceb26c2b65664dcaa955502fe5067c8f%20%3D%20%24%28%60%3Cdiv%20id%3D%22html_ceb26c2b65664dcaa955502fe5067c8f%22%20style%3D%22width%3A%20100.0%25%3B%20height%3A%20100.0%25%3B%22%3ERoonagh%20Pier%2C%200.47070788217933734%2C%203%3C/div%3E%60%29%5B0%5D%3B%0A%20%20%20%20%20%20%20%20%20%20%20%20popup_779d028b56cb454e9e056d3ed627bb29.setContent%28html_ceb26c2b65664dcaa955502fe5067c8f%29%3B%0A%20%20%20%20%20%20%20%20%0A%0A%20%20%20%20%20%20%20%20circle_marker_28f2f364170c45449f457dfc250a7123.bindPopup%28popup_779d028b56cb454e9e056d3ed627bb29%29%0A%20%20%20%20%20%20%20%20%3B%0A%0A%20%20%20%20%20%20%20%20%0A%20%20%20%20%0A%20%20%20%20%0A%20%20%20%20%20%20%20%20%20%20%20%20var%20circle_marker_86d27677ac4b4444bac3aebfd7abdf86%20%3D%20L.circleMarker%28%0A%20%20%20%20%20%20%20%20%20%20%20%20%20%20%20%20%5B53.585%2C%20-6.1081%5D%2C%0A%20%20%20%20%20%20%20%20%20%20%20%20%20%20%20%20%7B%22bubblingMouseEvents%22%3A%20true%2C%20%22color%22%3A%20%22yellow%22%2C%20%22dashArray%22%3A%20null%2C%20%22dashOffset%22%3A%20null%2C%20%22fill%22%3A%20true%2C%20%22fillColor%22%3A%20%22yellow%22%2C%20%22fillOpacity%22%3A%200.6%2C%20%22fillRule%22%3A%20%22evenodd%22%2C%20%22lineCap%22%3A%20%22round%22%2C%20%22lineJoin%22%3A%20%22round%22%2C%20%22opacity%22%3A%201.0%2C%20%22radius%22%3A%2010%2C%20%22stroke%22%3A%20true%2C%20%22weight%22%3A%203%7D%0A%20%20%20%20%20%20%20%20%20%20%20%20%29.addTo%28map_29805e8d1e7a4b2f9546d6ba14229907%29%3B%0A%20%20%20%20%20%20%20%20%0A%20%20%20%20%0A%20%20%20%20%20%20%20%20var%20popup_e6b73b01434e44009b4ce9d77a0a93a7%20%3D%20L.popup%28%7B%22maxWidth%22%3A%20%22100%25%22%7D%29%3B%0A%0A%20%20%20%20%20%20%20%20%0A%20%20%20%20%20%20%20%20%20%20%20%20var%20html_2883d3fbb7a64f36a9c861095bcec6a8%20%3D%20%24%28%60%3Cdiv%20id%3D%22html_2883d3fbb7a64f36a9c861095bcec6a8%22%20style%3D%22width%3A%20100.0%25%3B%20height%3A%20100.0%25%3B%22%3ESkerries%20Harbour%2C%20-0.09076259713306627%2C%202%3C/div%3E%60%29%5B0%5D%3B%0A%20%20%20%20%20%20%20%20%20%20%20%20popup_e6b73b01434e44009b4ce9d77a0a93a7.setContent%28html_2883d3fbb7a64f36a9c861095bcec6a8%29%3B%0A%20%20%20%20%20%20%20%20%0A%0A%20%20%20%20%20%20%20%20circle_marker_86d27677ac4b4444bac3aebfd7abdf86.bindPopup%28popup_e6b73b01434e44009b4ce9d77a0a93a7%29%0A%20%20%20%20%20%20%20%20%3B%0A%0A%20%20%20%20%20%20%20%20%0A%20%20%20%20%0A%20%20%20%20%0A%20%20%20%20%20%20%20%20%20%20%20%20var%20circle_marker_05bfe47a6fa34cfc83fac58463ecc4fa%20%3D%20L.circleMarker%28%0A%20%20%20%20%20%20%20%20%20%20%20%20%20%20%20%20%5B54.3099%2C%20-8.582%5D%2C%0A%20%20%20%20%20%20%20%20%20%20%20%20%20%20%20%20%7B%22bubblingMouseEvents%22%3A%20true%2C%20%22color%22%3A%20%22red%22%2C%20%22dashArray%22%3A%20null%2C%20%22dashOffset%22%3A%20null%2C%20%22fill%22%3A%20true%2C%20%22fillColor%22%3A%20%22red%22%2C%20%22fillOpacity%22%3A%200.6%2C%20%22fillRule%22%3A%20%22evenodd%22%2C%20%22lineCap%22%3A%20%22round%22%2C%20%22lineJoin%22%3A%20%22round%22%2C%20%22opacity%22%3A%201.0%2C%20%22radius%22%3A%2010%2C%20%22stroke%22%3A%20true%2C%20%22weight%22%3A%203%7D%0A%20%20%20%20%20%20%20%20%20%20%20%20%29.addTo%28map_29805e8d1e7a4b2f9546d6ba14229907%29%3B%0A%20%20%20%20%20%20%20%20%0A%20%20%20%20%0A%20%20%20%20%20%20%20%20var%20popup_9ef9ea2345a2446bbd03203939764cb8%20%3D%20L.popup%28%7B%22maxWidth%22%3A%20%22100%25%22%7D%29%3B%0A%0A%20%20%20%20%20%20%20%20%0A%20%20%20%20%20%20%20%20%20%20%20%20var%20html_9219c4778136415a8ac4ec1e32196a3b%20%3D%20%24%28%60%3Cdiv%20id%3D%22html_9219c4778136415a8ac4ec1e32196a3b%22%20style%3D%22width%3A%20100.0%25%3B%20height%3A%20100.0%25%3B%22%3ESligo%2C%200.02084004584673183%2C%200%3C/div%3E%60%29%5B0%5D%3B%0A%20%20%20%20%20%20%20%20%20%20%20%20popup_9ef9ea2345a2446bbd03203939764cb8.setContent%28html_9219c4778136415a8ac4ec1e32196a3b%29%3B%0A%20%20%20%20%20%20%20%20%0A%0A%20%20%20%20%20%20%20%20circle_marker_05bfe47a6fa34cfc83fac58463ecc4fa.bindPopup%28popup_9ef9ea2345a2446bbd03203939764cb8%29%0A%20%20%20%20%20%20%20%20%3B%0A%0A%20%20%20%20%20%20%20%20%0A%20%20%20%20%0A%20%20%20%20%0A%20%20%20%20%20%20%20%20%20%20%20%20var%20circle_marker_a7398768c52143b88f256e6bc022f24c%20%3D%20L.circleMarker%28%0A%20%20%20%20%20%20%20%20%20%20%20%20%20%20%20%20%5B51.558964%2C%20-9.13349%5D%2C%0A%20%20%20%20%20%20%20%20%20%20%20%20%20%20%20%20%7B%22bubblingMouseEvents%22%3A%20true%2C%20%22color%22%3A%20%22red%22%2C%20%22dashArray%22%3A%20null%2C%20%22dashOffset%22%3A%20null%2C%20%22fill%22%3A%20true%2C%20%22fillColor%22%3A%20%22red%22%2C%20%22fillOpacity%22%3A%200.6%2C%20%22fillRule%22%3A%20%22evenodd%22%2C%20%22lineCap%22%3A%20%22round%22%2C%20%22lineJoin%22%3A%20%22round%22%2C%20%22opacity%22%3A%201.0%2C%20%22radius%22%3A%2010%2C%20%22stroke%22%3A%20true%2C%20%22weight%22%3A%203%7D%0A%20%20%20%20%20%20%20%20%20%20%20%20%29.addTo%28map_29805e8d1e7a4b2f9546d6ba14229907%29%3B%0A%20%20%20%20%20%20%20%20%0A%20%20%20%20%0A%20%20%20%20%20%20%20%20var%20popup_2d8bdc53d5b54355b0b398a97ee5a1bf%20%3D%20L.popup%28%7B%22maxWidth%22%3A%20%22100%25%22%7D%29%3B%0A%0A%20%20%20%20%20%20%20%20%0A%20%20%20%20%20%20%20%20%20%20%20%20var%20html_88e67304e9b8434b8a66a084fa6a355d%20%3D%20%24%28%60%3Cdiv%20id%3D%22html_88e67304e9b8434b8a66a084fa6a355d%22%20style%3D%22width%3A%20100.0%25%3B%20height%3A%20100.0%25%3B%22%3EUnion%20Hall%20Harbor%2C%20-0.20447281852466725%2C%200%3C/div%3E%60%29%5B0%5D%3B%0A%20%20%20%20%20%20%20%20%20%20%20%20popup_2d8bdc53d5b54355b0b398a97ee5a1bf.setContent%28html_88e67304e9b8434b8a66a084fa6a355d%29%3B%0A%20%20%20%20%20%20%20%20%0A%0A%20%20%20%20%20%20%20%20circle_marker_a7398768c52143b88f256e6bc022f24c.bindPopup%28popup_2d8bdc53d5b54355b0b398a97ee5a1bf%29%0A%20%20%20%20%20%20%20%20%3B%0A%0A%20%20%20%20%20%20%20%20%0A%20%20%20%20%0A%20%20%20%20%0A%20%20%20%20%20%20%20%20%20%20%20%20var%20circle_marker_7a443d65aed646cfb7b303483b533550%20%3D%20L.circleMarker%28%0A%20%20%20%20%20%20%20%20%20%20%20%20%20%20%20%20%5B52.3385%2C%20-6.4589%5D%2C%0A%20%20%20%20%20%20%20%20%20%20%20%20%20%20%20%20%7B%22bubblingMouseEvents%22%3A%20true%2C%20%22color%22%3A%20%22red%22%2C%20%22dashArray%22%3A%20null%2C%20%22dashOffset%22%3A%20null%2C%20%22fill%22%3A%20true%2C%20%22fillColor%22%3A%20%22red%22%2C%20%22fillOpacity%22%3A%200.6%2C%20%22fillRule%22%3A%20%22evenodd%22%2C%20%22lineCap%22%3A%20%22round%22%2C%20%22lineJoin%22%3A%20%22round%22%2C%20%22opacity%22%3A%201.0%2C%20%22radius%22%3A%2010%2C%20%22stroke%22%3A%20true%2C%20%22weight%22%3A%203%7D%0A%20%20%20%20%20%20%20%20%20%20%20%20%29.addTo%28map_29805e8d1e7a4b2f9546d6ba14229907%29%3B%0A%20%20%20%20%20%20%20%20%0A%20%20%20%20%0A%20%20%20%20%20%20%20%20var%20popup_80392d16b80245e5b752b843ca64b1b9%20%3D%20L.popup%28%7B%22maxWidth%22%3A%20%22100%25%22%7D%29%3B%0A%0A%20%20%20%20%20%20%20%20%0A%20%20%20%20%20%20%20%20%20%20%20%20var%20html_7a3f7751e9074742a0142e356031bb9d%20%3D%20%24%28%60%3Cdiv%20id%3D%22html_7a3f7751e9074742a0142e356031bb9d%22%20style%3D%22width%3A%20100.0%25%3B%20height%3A%20100.0%25%3B%22%3EWexford%20Harbour%2C%20-0.09457743531202435%2C%200%3C/div%3E%60%29%5B0%5D%3B%0A%20%20%20%20%20%20%20%20%20%20%20%20popup_80392d16b80245e5b752b843ca64b1b9.setContent%28html_7a3f7751e9074742a0142e356031bb9d%29%3B%0A%20%20%20%20%20%20%20%20%0A%0A%20%20%20%20%20%20%20%20circle_marker_7a443d65aed646cfb7b303483b533550.bindPopup%28popup_80392d16b80245e5b752b843ca64b1b9%29%0A%20%20%20%20%20%20%20%20%3B%0A%0A%20%20%20%20%20%20%20%20%0A%20%20%20%20%0A%3C/script%3E onload=\"this.contentDocument.open();this.contentDocument.write(    decodeURIComponent(this.getAttribute('data-html')));this.contentDocument.close();\" allowfullscreen webkitallowfullscreen mozallowfullscreen></iframe></div></div>"
      ],
      "text/plain": [
       "<folium.folium.Map at 0x1d2918d27c0>"
      ]
     },
     "execution_count": 63,
     "metadata": {},
     "output_type": "execute_result"
    }
   ],
   "source": [
    "final_map = folium.Map(location=[53.269, -9.048], zoom_start=7)\n",
    "\n",
    "for lat, lng, label, water_level, station in zip(df_tides_grouped_per_station['latitude'], df_tides_grouped_per_station['longitude'], df_tides_grouped_per_station['Cluster Labels'], df_tides_grouped_per_station['Water_Level_OD_Malin'], df_tides_grouped_per_station['station_id']):\n",
    "    if label == 0:\n",
    "        color='red'\n",
    "    elif label == 1:\n",
    "        color='green'\n",
    "    elif label == 2:\n",
    "        color='yellow'\n",
    "    elif label == 3:\n",
    "        color='grey'\n",
    "\n",
    "    folium.CircleMarker(\n",
    "        [lat, lng],\n",
    "        radius=10,\n",
    "        popup=f\"{station}, {water_level}, {label}\",\n",
    "        fill=True,\n",
    "        color=color,\n",
    "        fill_color=color,\n",
    "        fill_opacity=0.6\n",
    "    ).add_to(final_map)\n",
    "\n",
    "\n",
    "final_map"
   ]
  },
  {
   "cell_type": "markdown",
   "metadata": {},
   "source": [
    "The clusters didn't seem to be influenced by the localization of the station. \n",
    "\n",
    "To improve the analysis we would need more features about each station, so the model could better capture the patterns."
   ]
  },
  {
   "cell_type": "code",
   "execution_count": null,
   "metadata": {},
   "outputs": [],
   "source": []
  }
 ],
 "metadata": {
  "kernelspec": {
   "display_name": "Python 3.8.10 ('base': conda)",
   "language": "python",
   "name": "python3"
  },
  "language_info": {
   "codemirror_mode": {
    "name": "ipython",
    "version": 3
   },
   "file_extension": ".py",
   "mimetype": "text/x-python",
   "name": "python",
   "nbconvert_exporter": "python",
   "pygments_lexer": "ipython3",
   "version": "3.8.10"
  },
  "orig_nbformat": 4,
  "vscode": {
   "interpreter": {
    "hash": "75d7cbf18e5cb3fdb05343164699d951283e027a13faaa193f739ae887708926"
   }
  }
 },
 "nbformat": 4,
 "nbformat_minor": 2
}
